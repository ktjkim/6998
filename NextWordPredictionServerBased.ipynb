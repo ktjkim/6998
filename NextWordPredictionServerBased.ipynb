{
 "cells": [
  {
   "cell_type": "code",
   "execution_count": 1,
   "id": "529870af",
   "metadata": {},
   "outputs": [
    {
     "name": "stdout",
     "output_type": "stream",
     "text": [
      "--2022-12-17 15:21:34--  http://cs.stanford.edu/people/alecmgo/trainingandtestdata.zip\n",
      "Resolving cs.stanford.edu (cs.stanford.edu)... 171.64.64.64\n",
      "Connecting to cs.stanford.edu (cs.stanford.edu)|171.64.64.64|:80... connected.\n",
      "HTTP request sent, awaiting response... 301 Moved Permanently\n",
      "Location: https://cs.stanford.edu/people/alecmgo/trainingandtestdata.zip [following]\n",
      "--2022-12-17 15:21:34--  https://cs.stanford.edu/people/alecmgo/trainingandtestdata.zip\n",
      "Connecting to cs.stanford.edu (cs.stanford.edu)|171.64.64.64|:443... connected.\n",
      "HTTP request sent, awaiting response... 200 OK\n",
      "Length: 81363704 (78M) [application/zip]\n",
      "Saving to: ‘trainingandtestdata.zip’\n",
      "\n",
      "trainingandtestdata 100%[===================>]  77.59M  93.7MB/s    in 0.8s    \n",
      "\n",
      "2022-12-17 15:21:35 (93.7 MB/s) - ‘trainingandtestdata.zip’ saved [81363704/81363704]\n",
      "\n"
     ]
    }
   ],
   "source": [
    "!wget http://cs.stanford.edu/people/alecmgo/trainingandtestdata.zip"
   ]
  },
  {
   "cell_type": "code",
   "execution_count": 5,
   "id": "a82cb6cd",
   "metadata": {},
   "outputs": [
    {
     "name": "stdout",
     "output_type": "stream",
     "text": [
      "Collecting nltk\n",
      "  Downloading nltk-3.8-py3-none-any.whl (1.5 MB)\n",
      "\u001b[2K     \u001b[90m━━━━━━━━━━━━━━━━━━━━━━━━━━━━━━━━━━━━━━━━\u001b[0m \u001b[32m1.5/1.5 MB\u001b[0m \u001b[31m30.4 MB/s\u001b[0m eta \u001b[36m0:00:00\u001b[0ma \u001b[36m0:00:01\u001b[0m\n",
      "\u001b[?25hRequirement already satisfied: click in /opt/conda/lib/python3.7/site-packages (from nltk) (8.1.3)\n",
      "Requirement already satisfied: regex>=2021.8.3 in /opt/conda/lib/python3.7/site-packages (from nltk) (2022.10.31)\n",
      "Requirement already satisfied: joblib in /opt/conda/lib/python3.7/site-packages (from nltk) (1.2.0)\n",
      "Requirement already satisfied: tqdm in /opt/conda/lib/python3.7/site-packages (from nltk) (4.64.1)\n",
      "Requirement already satisfied: importlib-metadata in /opt/conda/lib/python3.7/site-packages (from click->nltk) (4.11.4)\n",
      "Requirement already satisfied: typing-extensions>=3.6.4 in /opt/conda/lib/python3.7/site-packages (from importlib-metadata->click->nltk) (4.4.0)\n",
      "Requirement already satisfied: zipp>=0.5 in /opt/conda/lib/python3.7/site-packages (from importlib-metadata->click->nltk) (3.10.0)\n",
      "Installing collected packages: nltk\n",
      "Successfully installed nltk-3.8\n"
     ]
    }
   ],
   "source": [
    "!pip install nltk"
   ]
  },
  {
   "cell_type": "code",
   "execution_count": 52,
   "id": "11fb0e1d",
   "metadata": {},
   "outputs": [
    {
     "name": "stdout",
     "output_type": "stream",
     "text": [
      "Looking in links: https://download.pytorch.org/whl/torch_stable.html\n",
      "Collecting torch==1.9.1+cu111\n",
      "  Downloading https://download.pytorch.org/whl/cu111/torch-1.9.1%2Bcu111-cp37-cp37m-linux_x86_64.whl (2041.3 MB)\n",
      "\u001b[2K     \u001b[90m━━━━━━━━━━━━━━━━━━━━━━━━━━━━━━━━━━━━━━━━\u001b[0m \u001b[32m2.0/2.0 GB\u001b[0m \u001b[31m427.8 kB/s\u001b[0m eta \u001b[36m0:00:00\u001b[0m00:01\u001b[0m00:01\u001b[0m\n",
      "\u001b[?25hCollecting torchvision==0.10.1+cu111\n",
      "  Downloading https://download.pytorch.org/whl/cu111/torchvision-0.10.1%2Bcu111-cp37-cp37m-linux_x86_64.whl (20.6 MB)\n",
      "\u001b[2K     \u001b[90m━━━━━━━━━━━━━━━━━━━━━━━━━━━━━━━━━━━━━━━━\u001b[0m \u001b[32m20.6/20.6 MB\u001b[0m \u001b[31m13.4 MB/s\u001b[0m eta \u001b[36m0:00:00\u001b[0m00:01\u001b[0m00:01\u001b[0m\n",
      "\u001b[?25hCollecting torchaudio==0.9.1\n",
      "  Downloading torchaudio-0.9.1-cp37-cp37m-manylinux1_x86_64.whl (1.9 MB)\n",
      "\u001b[2K     \u001b[90m━━━━━━━━━━━━━━━━━━━━━━━━━━━━━━━━━━━━━━━━\u001b[0m \u001b[32m1.9/1.9 MB\u001b[0m \u001b[31m3.4 MB/s\u001b[0m eta \u001b[36m0:00:00\u001b[0m:00:01\u001b[0m00:01\u001b[0m\n",
      "\u001b[?25hRequirement already satisfied: typing-extensions in /opt/conda/lib/python3.7/site-packages (from torch==1.9.1+cu111) (4.4.0)\n",
      "Requirement already satisfied: pillow>=5.3.0 in /opt/conda/lib/python3.7/site-packages (from torchvision==0.10.1+cu111) (9.2.0)\n",
      "Requirement already satisfied: numpy in /opt/conda/lib/python3.7/site-packages (from torchvision==0.10.1+cu111) (1.21.6)\n",
      "Installing collected packages: torch, torchvision, torchaudio\n",
      "  Attempting uninstall: torch\n",
      "    Found existing installation: torch 1.13.1\n",
      "    Uninstalling torch-1.13.1:\n",
      "      Successfully uninstalled torch-1.13.1\n",
      "  Attempting uninstall: torchvision\n",
      "    Found existing installation: torchvision 0.14.1\n",
      "    Uninstalling torchvision-0.14.1:\n",
      "      Successfully uninstalled torchvision-0.14.1\n",
      "Successfully installed torch-1.9.1+cu111 torchaudio-0.9.1 torchvision-0.10.1+cu111\n"
     ]
    }
   ],
   "source": [
    "!pip3 install torch==1.9.1+cu111 torchvision==0.10.1+cu111 torchaudio==0.9.1 -f https://download.pytorch.org/whl/torch_stable.html"
   ]
  },
  {
   "cell_type": "code",
   "execution_count": 49,
   "id": "36ff751b",
   "metadata": {},
   "outputs": [
    {
     "name": "stdout",
     "output_type": "stream",
     "text": [
      "Collecting gensim\n",
      "  Downloading gensim-4.2.0-cp37-cp37m-manylinux_2_12_x86_64.manylinux2010_x86_64.whl (24.1 MB)\n",
      "\u001b[2K     \u001b[90m━━━━━━━━━━━━━━━━━━━━━━━━━━━━━━━━━━━━━━━━\u001b[0m \u001b[32m24.1/24.1 MB\u001b[0m \u001b[31m72.2 MB/s\u001b[0m eta \u001b[36m0:00:00\u001b[0m00:01\u001b[0m00:01\u001b[0m\n",
      "\u001b[?25hCollecting smart-open>=1.8.1\n",
      "  Downloading smart_open-6.3.0-py3-none-any.whl (56 kB)\n",
      "\u001b[2K     \u001b[90m━━━━━━━━━━━━━━━━━━━━━━━━━━━━━━━━━━━━━━━━\u001b[0m \u001b[32m56.8/56.8 kB\u001b[0m \u001b[31m10.7 MB/s\u001b[0m eta \u001b[36m0:00:00\u001b[0m\n",
      "\u001b[?25hRequirement already satisfied: scipy>=0.18.1 in /opt/conda/lib/python3.7/site-packages (from gensim) (1.7.3)\n",
      "Requirement already satisfied: numpy>=1.17.0 in /opt/conda/lib/python3.7/site-packages (from gensim) (1.21.6)\n",
      "Installing collected packages: smart-open, gensim\n",
      "Successfully installed gensim-4.2.0 smart-open-6.3.0\n"
     ]
    }
   ],
   "source": [
    "!pip install gensim"
   ]
  },
  {
   "cell_type": "code",
   "execution_count": 51,
   "id": "64df19ec",
   "metadata": {},
   "outputs": [
    {
     "name": "stdout",
     "output_type": "stream",
     "text": [
      "/bin/bash: cuda11.1: No such file or directory\r\n"
     ]
    }
   ],
   "source": [
    "!source cuda11.1"
   ]
  },
  {
   "cell_type": "code",
   "execution_count": 12,
   "id": "33f72c7f",
   "metadata": {},
   "outputs": [
    {
     "name": "stderr",
     "output_type": "stream",
     "text": [
      "[nltk_data] Downloading package stopwords to\n",
      "[nltk_data]     /home/spa2138/nltk_data...\n",
      "[nltk_data]   Unzipping corpora/stopwords.zip.\n"
     ]
    },
    {
     "data": {
      "text/plain": [
       "True"
      ]
     },
     "execution_count": 12,
     "metadata": {},
     "output_type": "execute_result"
    }
   ],
   "source": [
    "import nltk\n",
    "nltk.download('stopwords')"
   ]
  },
  {
   "cell_type": "code",
   "execution_count": 2,
   "id": "9dbaa7c3",
   "metadata": {},
   "outputs": [],
   "source": [
    "import zipfile\n",
    "import os\n",
    "path_to_zip_file = os.getcwd() + \"/trainingandtestdata.zip\"\n",
    "directory_to_extract_to = os.getcwd() + \"/data\"\n",
    "with zipfile.ZipFile(path_to_zip_file, 'r') as zip_ref:\n",
    "    zip_ref.extractall(directory_to_extract_to)"
   ]
  },
  {
   "cell_type": "code",
   "execution_count": 1,
   "id": "c27f3176",
   "metadata": {},
   "outputs": [
    {
     "name": "stderr",
     "output_type": "stream",
     "text": [
      "2022-12-17 16:22:59.219378: I tensorflow/core/platform/cpu_feature_guard.cc:193] This TensorFlow binary is optimized with oneAPI Deep Neural Network Library (oneDNN) to use the following CPU instructions in performance-critical operations:  AVX2 FMA\n",
      "To enable them in other operations, rebuild TensorFlow with the appropriate compiler flags.\n",
      "2022-12-17 16:22:59.392441: E tensorflow/stream_executor/cuda/cuda_blas.cc:2981] Unable to register cuBLAS factory: Attempting to register factory for plugin cuBLAS when one has already been registered\n",
      "2022-12-17 16:23:00.234310: W tensorflow/stream_executor/platform/default/dso_loader.cc:64] Could not load dynamic library 'libnvinfer.so.7'; dlerror: libnvinfer.so.7: cannot open shared object file: No such file or directory; LD_LIBRARY_PATH: /usr/local/cuda/lib64:/usr/local/nccl2/lib:/usr/local/cuda/extras/CUPTI/lib64\n",
      "2022-12-17 16:23:00.234395: W tensorflow/stream_executor/platform/default/dso_loader.cc:64] Could not load dynamic library 'libnvinfer_plugin.so.7'; dlerror: libnvinfer_plugin.so.7: cannot open shared object file: No such file or directory; LD_LIBRARY_PATH: /usr/local/cuda/lib64:/usr/local/nccl2/lib:/usr/local/cuda/extras/CUPTI/lib64\n",
      "2022-12-17 16:23:00.234404: W tensorflow/compiler/tf2tensorrt/utils/py_utils.cc:38] TF-TRT Warning: Cannot dlopen some TensorRT libraries. If you would like to use Nvidia GPU with TensorRT, please make sure the missing libraries mentioned above are installed properly.\n"
     ]
    }
   ],
   "source": [
    "from keras.preprocessing.text import Tokenizer\n",
    "from keras_preprocessing.sequence import pad_sequences\n",
    "from nltk.corpus import stopwords\n",
    "from nltk.stem import SnowballStemmer\n",
    "from random import sample\n",
    "\n",
    "import numpy as np\n",
    "import os\n",
    "import pandas as pd\n",
    "import pickle\n",
    "import re\n",
    "\n",
    "from math import floor\n",
    "from gensim.models import KeyedVectors\n",
    "from torch.nn.utils.rnn import pack_sequence, PackedSequence\n",
    "from torch.optim.lr_scheduler import CyclicLR\n",
    "\n",
    "import torch.nn as tnn\n",
    "import torch as th\n",
    "import numpy as np\n",
    "from tqdm import tqdm\n",
    "import copy\n",
    "\n"
   ]
  },
  {
   "cell_type": "markdown",
   "id": "4903bbc4",
   "metadata": {},
   "source": [
    "#### Loading Data"
   ]
  },
  {
   "cell_type": "code",
   "execution_count": 7,
   "id": "38f92a71",
   "metadata": {},
   "outputs": [
    {
     "data": {
      "text/plain": [
       "'/home/spa2138'"
      ]
     },
     "execution_count": 7,
     "metadata": {},
     "output_type": "execute_result"
    }
   ],
   "source": [
    "os.getcwd()"
   ]
  },
  {
   "cell_type": "code",
   "execution_count": 8,
   "id": "9b3805b6",
   "metadata": {},
   "outputs": [],
   "source": [
    "input_file = '/home/spa2138/data/training.1600000.processed.noemoticon.csv'"
   ]
  },
  {
   "cell_type": "code",
   "execution_count": 20,
   "id": "9a083c05",
   "metadata": {},
   "outputs": [],
   "source": [
    "columns = [\"target\", \"ids\", \"date\", \"flag\", \"user\", \"text\"]\n",
    "data = pd.read_csv(input_file, encoding = \"ISO-8859-1\", header = None, names = columns)"
   ]
  },
  {
   "cell_type": "markdown",
   "id": "da31518d",
   "metadata": {},
   "source": [
    "## Preprocessing Data"
   ]
  },
  {
   "cell_type": "code",
   "execution_count": 21,
   "id": "0584592f",
   "metadata": {},
   "outputs": [],
   "source": [
    "def index_data_by_date(data, string_tz = \"PDT\"):\n",
    "    timezone = 'US/Pacific' if \"PDT\" or \"PT\" in string_tz else \"UTC\"\n",
    "    data.date = data.date.str.replace(string_tz, \"\")\n",
    "    data.date = data.date.astype(\"datetime64[ns]\")\n",
    "    data.index = data.date\n",
    "    data.drop([\"date\"], axis = 1, inplace = True)\n",
    "    data.index = data.index.tz_localize(timezone)\n",
    "    return data"
   ]
  },
  {
   "cell_type": "code",
   "execution_count": 164,
   "id": "f5213196",
   "metadata": {},
   "outputs": [],
   "source": [
    "CLEANING_REGEX = \"@\\S+|https?:\\S+|http?:\\S|[^A-Za-z0-9]+\"\n",
    "NEGATIONS_DICT = {\n",
    "                \"isn't\":\"is not\", \"aren't\":\"are not\", \"wasn't\":\"was not\", \n",
    "                \"weren't\": \"were not\", \"haven't\":\"have not\",\"hasn't\":\"has not\",\n",
    "                \"hadn't\":\"had not\",\"won't\":\"will not\", \"wouldn't\":\"would not\", \n",
    "                \"don't\":\"do not\", \"doesn't\":\"does not\", \"didn't\":\"did not\",\n",
    "                \"can't\":\"can not\",\"couldn't\":\"could not\",\n",
    "                \"shouldn't\":\"should not\",\"mightn't\":\"might not\",\n",
    "                \"mustn't\":\"must not\"\n",
    "                }"
   ]
  },
  {
   "cell_type": "code",
   "execution_count": 160,
   "id": "6b7f15a6",
   "metadata": {},
   "outputs": [],
   "source": [
    "def get_cleaned_text(text, stop_words, stemmer, stem = False):    \n",
    "    neg_pattern = re.compile(r'\\b(' + '|'.join(NEGATIONS_DICT.keys()) + r')\\b')    \n",
    "    text = re.sub(CLEANING_REGEX, \" \", str(text).lower()).strip()\n",
    "    text = neg_pattern.sub(lambda x: NEGATIONS_DICT[x.group()], text)\n",
    "    tokens = []\n",
    "    for token in text.split():\n",
    "        if token not in stop_words:\n",
    "            if stem:\n",
    "                tokens.append(stemmer.stem(token))\n",
    "                continue\n",
    "            tokens.append(token)    \n",
    "    text = \" \".join(tokens)\n",
    "    text = re.sub(\"n't\", \"not\", text)\n",
    "    return re.sub(\"'s\", \"is\", text)"
   ]
  },
  {
   "cell_type": "code",
   "execution_count": 36,
   "id": "718e8b14",
   "metadata": {},
   "outputs": [],
   "source": [
    "def text_to_sequence(texts, tokenizer):\n",
    "    tokenizer = tokenizer()\n",
    "    tokenizer.fit_on_texts(texts)\n",
    "    return tokenizer.texts_to_sequences(texts), tokenizer"
   ]
  },
  {
   "cell_type": "code",
   "execution_count": 41,
   "id": "cb4a4d63",
   "metadata": {},
   "outputs": [],
   "source": [
    "def split_X_and_Y(sequence):\n",
    "    X = [0]    \n",
    "    Y = [sequence[0]]\n",
    "    for idx, token in enumerate(sequence[:-1]):\n",
    "        X.append(token)\n",
    "        Y.append(sequence[idx + 1])\n",
    "    return pd.Series({\"X\": X, \"Y\": Y})"
   ]
  },
  {
   "cell_type": "code",
   "execution_count": 162,
   "id": "2a358812",
   "metadata": {},
   "outputs": [],
   "source": [
    "stop_words = stopwords.words(\"english\")\n",
    "stemmer = SnowballStemmer(\"english\")"
   ]
  },
  {
   "cell_type": "code",
   "execution_count": 23,
   "id": "1bd5d4d8",
   "metadata": {},
   "outputs": [],
   "source": [
    "min_tweets = 20"
   ]
  },
  {
   "cell_type": "code",
   "execution_count": 24,
   "id": "d731bd77",
   "metadata": {},
   "outputs": [],
   "source": [
    "data.drop([\"target\", \"flag\", \"ids\"], axis = 1, inplace = True)\n",
    "users = data.groupby(by = \"user\").apply(len) > min_tweets\n",
    "data = data[data.user.isin(users[users].index)]\n",
    "data = index_data_by_date(data)"
   ]
  },
  {
   "cell_type": "code",
   "execution_count": 29,
   "id": "bb7537fd",
   "metadata": {},
   "outputs": [],
   "source": [
    "data[\"cleaned_text\"] = data.text.apply(lambda x: get_cleaned_text(x, stop_words, stemmer))"
   ]
  },
  {
   "cell_type": "code",
   "execution_count": 30,
   "id": "89f546e5",
   "metadata": {},
   "outputs": [],
   "source": [
    "data.drop_duplicates(subset = [\"cleaned_text\"], keep = False, inplace = True)"
   ]
  },
  {
   "cell_type": "code",
   "execution_count": 32,
   "id": "3d27d504",
   "metadata": {},
   "outputs": [],
   "source": [
    "sequences, tokenizer = text_to_sequence(data.cleaned_text, Tokenizer)\n",
    "data[\"sequence\"] = sequences\n",
    "data = data[data.sequence.map(lambda x: len(x)) > 0]    "
   ]
  },
  {
   "cell_type": "code",
   "execution_count": 34,
   "id": "625b8030",
   "metadata": {},
   "outputs": [],
   "source": [
    "data = data.merge(data.sequence.apply(lambda x: split_X_and_Y(x)), left_index = True, right_index = True)"
   ]
  },
  {
   "cell_type": "markdown",
   "id": "fbd66b81",
   "metadata": {},
   "source": [
    "### Saving Processed Data to pickle file"
   ]
  },
  {
   "cell_type": "code",
   "execution_count": 35,
   "id": "d2413ede",
   "metadata": {},
   "outputs": [],
   "source": [
    "processed_data = \"/home/spa2138/data/processed_data.pkl\"\n",
    "data.to_pickle(processed_data)"
   ]
  },
  {
   "cell_type": "code",
   "execution_count": 39,
   "id": "1e6ecf86",
   "metadata": {},
   "outputs": [],
   "source": [
    "word2idx_file = \"/home/spa2138/data/tokenizer_keys_short.pkl\"\n",
    "with open(word2idx_file, \"wb\") as f:\n",
    "    pickle.dump(tokenizer.word_index, f, pickle.HIGHEST_PROTOCOL)"
   ]
  },
  {
   "cell_type": "code",
   "execution_count": 44,
   "id": "36f193e8",
   "metadata": {},
   "outputs": [],
   "source": [
    "word2idx = tokenizer.word_index"
   ]
  },
  {
   "cell_type": "code",
   "execution_count": 54,
   "id": "dfdc5012",
   "metadata": {},
   "outputs": [],
   "source": [
    "processed_data = \"/home/spa2138/data/processed_data.pkl\"\n",
    "word2idx_file = \"/home/spa2138/data/tokenizer_keys.pkl\"\n",
    "data = pd.read_pickle(processed_data)\n",
    "with open(word2idx_file, \"rb\") as f:\n",
    "    word2idx = pickle.load(f)"
   ]
  },
  {
   "cell_type": "markdown",
   "id": "92ececbd",
   "metadata": {},
   "source": [
    "### Dividing data into Local and Remote"
   ]
  },
  {
   "cell_type": "code",
   "execution_count": 33,
   "id": "d49d870e",
   "metadata": {},
   "outputs": [],
   "source": [
    "local_share = 0.2\n",
    "unique_users = data.user.unique()\n",
    "idx_share = int(local_share*unique_users.shape[0])\n",
    "local_users = unique_users[:idx_share]\n",
    "remote_users = unique_users[idx_share:]\n",
    "local_data = data[data.user.isin(local_users)]\n",
    "remote_data = data[data.user.isin(remote_users)]"
   ]
  },
  {
   "cell_type": "markdown",
   "id": "d643b40b",
   "metadata": {},
   "source": [
    "# Training Phase"
   ]
  },
  {
   "cell_type": "code",
   "execution_count": 13,
   "id": "9599c30c",
   "metadata": {},
   "outputs": [],
   "source": [
    "GOOGLE_W2V = \"/home/spa2138/data/GoogleNews-vectors-negative300.bin.gz\"\n",
    "HISTORY = lambda param: {\n",
    "                \"train_acc\": copy.deepcopy(param),\n",
    "                \"topk_train_acc\": copy.deepcopy(param),\n",
    "                \"train_loss\": copy.deepcopy(param), \n",
    "                \"val_acc\": copy.deepcopy(param), \n",
    "                \"topk_val_acc\": copy.deepcopy(param),\n",
    "                \"val_loss\": copy.deepcopy(param),\n",
    "                }"
   ]
  },
  {
   "cell_type": "code",
   "execution_count": 78,
   "id": "8b82cf54",
   "metadata": {},
   "outputs": [],
   "source": [
    "def extend_data(X, Y, context_size):\n",
    "    new_X = []\n",
    "    new_Y = []\n",
    "    for idx, x in enumerate(X):\n",
    "        y = Y[idx]        \n",
    "        for idx2, word in enumerate(x):\n",
    "            if idx2 < 5:                \n",
    "                new_X.append(pad_sequences([x[:idx2 + 1]], maxlen = context_size)[0])\n",
    "            else:                \n",
    "                new_X.append(x[idx2 - context_size + 1: idx2 + 1])\n",
    "            new_Y.append(np.array(y[idx2], dtype = \"int32\"))\n",
    "    new_X = np.vstack(new_X)\n",
    "    new_Y = np.array(new_Y).astype(np.int32)\n",
    "    return new_X, new_Y"
   ]
  },
  {
   "cell_type": "code",
   "execution_count": 6,
   "id": "df586dc3",
   "metadata": {},
   "outputs": [],
   "source": [
    "import numpy as np\n",
    "import torch\n",
    "\n",
    "\n",
    "class EarlyStopping:\n",
    "    \"\"\"Early stops the training if validation loss doesn't improve after a given patience.\"\"\"\n",
    "    def __init__(self, patience = 5, verbose = False):\n",
    "        \"\"\"\n",
    "        Args:\n",
    "            patience (int): How long to wait after last time validation loss improved.\n",
    "                            Default: 5\n",
    "            verbose (bool): If True, prints a message for each validation loss improvement. \n",
    "                            Default: False\n",
    "        \"\"\"\n",
    "        self.patience = patience\n",
    "        self.verbose = verbose\n",
    "        self.counter = 0\n",
    "        self.best_score = None\n",
    "        self.early_stop = False\n",
    "        self.val_loss_min = np.Inf\n",
    "\n",
    "\n",
    "    def __call__(self, val_loss, model):\n",
    "\n",
    "        score = -val_loss\n",
    "\n",
    "        if self.best_score is None:\n",
    "            self.best_score = score\n",
    "            self.save_checkpoint(val_loss, model)\n",
    "        elif score < self.best_score:\n",
    "            self.counter += 1\n",
    "            if self.verbose:\n",
    "                print(f'EarlyStopping counter: {self.counter} out of {self.patience}')\n",
    "            if self.counter >= self.patience:\n",
    "                self.early_stop = True\n",
    "        else:\n",
    "            self.best_score = score\n",
    "            self.save_checkpoint(val_loss, model)\n",
    "            self.counter = 0\n",
    "\n",
    "\n",
    "    def save_checkpoint(self, val_loss, model):\n",
    "        '''Saves model when validation loss decrease.'''\n",
    "        if self.verbose:\n",
    "            print(f'Validation loss decreased ({self.val_loss_min:.6f} --> {val_loss:.6f}).  Storing model ...')        \n",
    "        self.best_model = {key: value.clone() \n",
    "                                for key, value in model.state_dict().items()}\n",
    "        self.val_loss_min = val_loss"
   ]
  },
  {
   "cell_type": "code",
   "execution_count": 195,
   "id": "e5ec33a0",
   "metadata": {},
   "outputs": [],
   "source": [
    "class bidirectional_LSTM(tnn.Module):\n",
    "    def __init__(self, context_size, V, D, word2idx, word2vec, hidden_nodes = 128,\n",
    "                n_rnn_layers = 1,\n",
    "                activation_last_layer = tnn.functional.log_softmax,     \n",
    "                dropout = 0.2,\n",
    "                learning_rate = 10**(-3),                \n",
    "                loss_fun = tnn.NLLLoss()):                            \n",
    "        super(bidirectional_LSTM, self).__init__()\n",
    "        self.word2vec = word2vec\n",
    "        self.context_size = context_size\n",
    "        self.V = V        \n",
    "        self.D = D\n",
    "        self.word2idx = word2idx\n",
    "        self.idx2word = {value: key for key, value in word2idx.items()}\n",
    "        self.hidden_nodes = hidden_nodes\n",
    "        self.n_fc_layer1 = 8*hidden_nodes        \n",
    "        self.n_rnn_layers = n_rnn_layers\n",
    "        self.activation_last_layer = activation_last_layer        \n",
    "        self.dropout = dropout\n",
    "        self.lr = learning_rate\n",
    "        self.loss_fun = loss_fun\n",
    "        self._build()       \n",
    "\n",
    "\n",
    "    def _build(self):                           \n",
    "        self.embedding = tnn.Embedding.from_pretrained(embed_vocab(self.word2idx, \n",
    "                                    self.V, self.D, self.word2vec), freeze = True)        \n",
    "        self.bi_lstm = tnn.LSTM(input_size = self.D, \n",
    "                            hidden_size = self.hidden_nodes,\n",
    "                            num_layers = self.n_rnn_layers, bias = True, \n",
    "                            batch_first = True, dropout = self.dropout, \n",
    "                            bidirectional = True)\n",
    "        self.fc_layer = tnn.Linear(2*self.hidden_nodes, self.V)\n",
    "        self.relu_layer = tnn.ReLU()\n",
    "\n",
    "    \n",
    "    def _init_hidden(self, batch_size):\n",
    "        h0 = th.autograd.Variable(th.zeros(2*self.n_rnn_layers, batch_size, \n",
    "                                                        self.hidden_nodes))\n",
    "        c0 = th.autograd.Variable(th.zeros(2*self.n_rnn_layers, batch_size, \n",
    "                                                        self.hidden_nodes))\n",
    "        device = th.device('cuda' if th.cuda.is_available() else 'cpu')\n",
    "        h0 = h0.to(device)\n",
    "        c0 = h0.to(device)\n",
    "        return [h0, c0]\n",
    "\n",
    "    \n",
    "    def _sequence_to_text(self, seq):\n",
    "        return \" \".join([self.idx2word[int(idx)] for idx in seq])\n",
    "\n",
    "    \n",
    "    def forward(self, X):\n",
    "        embedded = self.embedding(X)        \n",
    "        if hasattr(X, \"location\"):\n",
    "            for idx, hidden in enumerate(self.h_lstm):            \n",
    "                self.h_lstm[idx] = hidden.send(X.location)            \n",
    "        output, _ = self.bi_lstm(embedded, self.h_lstm)        \n",
    "        output = output.transpose(1, 2)\n",
    "        output = self.relu_layer(output[:, :, -1])        \n",
    "        output = self.fc_layer(output)\n",
    "        return output\n",
    "    \n",
    "    \n",
    "    def _score_from_outputs(self, outputs, Y, k = 1):                \n",
    "        preds = tnn.functional.softmax(outputs, dim = 1).topk(k, dim = 1)[1]\n",
    "        preds = preds.view([-1]) if k == 1 else preds\n",
    "        n_correct = 0\n",
    "        for outputs, target in zip(preds, Y):\n",
    "            if k > 1:\n",
    "                for output in outputs:                               \n",
    "                    if th.equal(target.long(), output.long()):\n",
    "                        n_correct += 1\n",
    "                        break\n",
    "            elif k == 1 and th.equal(target.long(), outputs.long()):\n",
    "                n_correct += 1                    \n",
    "        return n_correct / len(Y)\n",
    "\n",
    "\n",
    "    def score_and_loss(self, X, Y, loss_fun, local, batch_size = 1024):\n",
    "        n_batches = len(X) // batch_size\n",
    "        if n_batches == 0:\n",
    "            self.h_lstm = self._init_hidden(len(X))\n",
    "            outputs = self.forward(X).view(len(X), -1)            \n",
    "            logits = self.activation_last_layer(outputs, dim = 1)\n",
    "            loss = loss_fun(logits, Y.long())\n",
    "            if not local:\n",
    "                loss = loss.get()                \n",
    "            loss_value = loss.item()\n",
    "            return self._score_from_outputs(outputs, Y), loss_value\n",
    "        accuracy = 0\n",
    "        loss_value = 0\n",
    "        for j in range(n_batches):\n",
    "            self.h_lstm = self._init_hidden(batch_size)\n",
    "            X_batch = X[j*batch_size:(j*batch_size + batch_size)]\n",
    "            Y_batch = Y[j*batch_size:(j*batch_size + batch_size)]\n",
    "            outputs = self.forward(X_batch)\n",
    "            logits = self.activation_last_layer(outputs, dim = 1)\n",
    "            loss = loss_fun(logits, Y_batch.long())\n",
    "            if not local:\n",
    "                loss = loss.get()\n",
    "            loss_value += loss.item()\n",
    "            accuracy += self._score_from_outputs(outputs, Y_batch)\n",
    "        return accuracy / n_batches, loss_value / n_batches\n",
    "\n",
    "    \n",
    "    def score_topk(self, X, Y, local, topk_pred, batch_size = 1024):\n",
    "        n_batches = len(X) // batch_size\n",
    "        if n_batches == 0:\n",
    "            self.h_lstm = self._init_hidden(len(X))\n",
    "            outputs = self.forward(X).view(len(X), -1)\n",
    "            return self._score_from_outputs(outputs, Y, topk_pred)\n",
    "        accuracy = 0\n",
    "        loss_value = 0\n",
    "        for j in range(n_batches):\n",
    "            self.h_lstm = self._init_hidden(batch_size)\n",
    "            X_batch = X[j*batch_size:(j*batch_size + batch_size)]\n",
    "            Y_batch = Y[j*batch_size:(j*batch_size + batch_size)]\n",
    "            outputs = self.forward(X_batch)\n",
    "            accuracy += self._score_from_outputs(outputs, Y_batch, topk_pred)\n",
    "        return accuracy / n_batches\n",
    "\n",
    "    \n",
    "    def fit(self, X, Y, optimizer, batch_size = 64, epochs = 10, local = True,\n",
    "            validation_split = 0.2, batch_print_epoch = 1, verbose = True, \n",
    "            patience = 10, topk_pred = None):        \n",
    "        n_samples = len(X)\n",
    "        optimizer = optimizer(self.parameters(), lr = self.lr)        \n",
    "        if validation_split and len(X) > batch_size:\n",
    "            val_size = int(n_samples * (1 - validation_split))\n",
    "            X_train, Y_train = X[:val_size], Y[:val_size]\n",
    "            X_test, Y_test = X[val_size:], Y[val_size:]\n",
    "        else:\n",
    "            X_train, Y_train = X.copy(), Y.copy()\n",
    "            X_test, Y_test = X.copy(), Y.copy()\n",
    "        n_batches = len(X_train) // batch_size            \n",
    "        scheduler = CyclicLR(optimizer, self.lr / 1000, self.lr, \n",
    "                    step_size_up = 4000)\n",
    "        batch_string = (\"Running loss per batch epoch {}/{} on batch \" + \n",
    "                        \"{}/{}: {:.3f}\\t Running accuracy: {:.3f} Epoch done:{:.4f}%\").format\n",
    "        epoch_string = (\"Epoch {}/{}  \" + \n",
    "                        \"Training loss: {:.3f}   \" +\n",
    "                        \"Training accuracy: {:.3f}\\t\" + \n",
    "                        \"Validation loss: {:.3f}  \" + \n",
    "                        \"Validation accuracy: {:.3f}\").format\n",
    "        loss_fun = self.loss_fun if local else self.loss_fun.send(X.location)\n",
    "        history = HISTORY([])\n",
    "        early_stopping = EarlyStopping(patience = patience, verbose = False)        \n",
    "        for epoch in range(epochs):\n",
    "            running_loss = 0\n",
    "            running_acc = 0\n",
    "            for j in range(n_batches):\n",
    "                self.h_lstm = self._init_hidden(batch_size)                \n",
    "                X_batch = X_train[j*batch_size:(j*batch_size + batch_size)]\n",
    "                Y_batch = Y_train[j*batch_size:(j*batch_size + batch_size)]\n",
    "                optimizer.zero_grad()\n",
    "                outputs = self.forward(X_batch)                                \n",
    "                logits = self.activation_last_layer(outputs, dim = 1)\n",
    "                running_acc += self._score_from_outputs(outputs, Y_batch)\n",
    "                loss = loss_fun(logits, Y_batch.long())   \n",
    "                loss.backward()\n",
    "                scheduler.step()\n",
    "                optimizer.step()\n",
    "                loss = loss if local else loss.get()                \n",
    "                running_loss += loss.item()\n",
    "                end_pat = \"\\n\" if j == n_batches - 1 else \"\\r\"\n",
    "                if (j + 1) % batch_print_epoch == 0 and local and verbose:\n",
    "                    percent_done = round(float(j + 1)/n_batches, 5) * 100\n",
    "                    print(batch_string(epoch + 1, epochs, j + 1, n_batches, \n",
    "                                        running_loss / (j + 1), \n",
    "                                        running_acc / (j + 1), percent_done),\n",
    "                                        end = end_pat)                   \n",
    "            print(\"Getting train_accuracy, train_loss after {} epoch\".format(epoch + 1))\n",
    "            train_accuracy, train_loss = self.score_and_loss(X_train, Y_train, \n",
    "                                                            loss_fun, local)\n",
    "            print(\"Getting validation_accuracy, validation_loss {} epoch\".format(epoch + 1))\n",
    "            validation_accuracy, validation_loss = self.score_and_loss(X_test, \n",
    "                                                    Y_test, loss_fun, local)\n",
    "            topk_train_acc = (self.score_topk(X_train, Y_train, local, topk_pred) \n",
    "                                                    if topk_pred else 0)\n",
    "            topk_val_acc = (self.score_topk(X_test, Y_test, local, topk_pred) \n",
    "                                                    if topk_pred else 0)\n",
    "            if verbose:\n",
    "                print(epoch_string(epoch + 1, epochs, train_loss, \n",
    "                                    train_accuracy, validation_loss, \n",
    "                                    validation_accuracy))            \n",
    "            history[\"train_acc\"].append(train_accuracy)\n",
    "            history[\"topk_train_acc\"].append(topk_train_acc)            \n",
    "            history[\"train_loss\"].append(train_loss)\n",
    "            history[\"val_acc\"].append(validation_accuracy)\n",
    "            history[\"topk_val_acc\"].append(topk_val_acc)\n",
    "            history[\"val_loss\"].append(validation_loss)\n",
    "            early_stopping(validation_loss, self)\n",
    "            if early_stopping.early_stop and verbose:\n",
    "                print(\"Early stopping\")\n",
    "                break\n",
    "        if early_stopping.early_stop:\n",
    "            for key, value in early_stopping.best_model.items():\n",
    "                self.state_dict()[key] = value\n",
    "            for key, value in history.items():\n",
    "                history[key] = value[:epoch + 1 - patience]\n",
    "        return history"
   ]
  },
  {
   "cell_type": "code",
   "execution_count": 71,
   "id": "6c4b8262",
   "metadata": {},
   "outputs": [],
   "source": [
    "def embed_vocab(word2idx, V, D, word2vec, word2vecLoad=False):\n",
    "    if word2vecLoad:\n",
    "        word2vec = KeyedVectors.load_word2vec_format(GOOGLE_W2V, binary = True)\n",
    "    embedding_matrix = np.zeros((V + 1, D))\n",
    "    vocab = set(list(word2vec.index_to_key))\n",
    "    for word, i in tqdm(word2idx.items(), total=len(word2idx)):\n",
    "        if word in vocab:\n",
    "            embedding_matrix[i] = word2vec[word]\n",
    "    return th.tensor(embedding_matrix, dtype = th.float32)"
   ]
  },
  {
   "cell_type": "code",
   "execution_count": 18,
   "id": "1dc5d8ae",
   "metadata": {},
   "outputs": [],
   "source": [
    "word2vec = KeyedVectors.load_word2vec_format(GOOGLE_W2V, binary = True)\n",
    "X, Y = extend_data(data.X, data.Y, context_size)\n",
    "X = th.tensor(X)\n",
    "Y = th.tensor(Y)\n",
    "optimizer = th.optim.RMSprop"
   ]
  },
  {
   "cell_type": "code",
   "execution_count": 152,
   "id": "edde7f8e",
   "metadata": {},
   "outputs": [
    {
     "name": "stderr",
     "output_type": "stream",
     "text": [
      "100%|████████████████████████████████████████████████████████████████████████████████████████████████████████████████████████████████████████████████████████████████████| 85306/85306 [00:00<00:00, 658169.37it/s]\n"
     ]
    }
   ],
   "source": [
    "context_size = 5\n",
    "epochs = 5\n",
    "D = 300\n",
    "n_nodes = 128\n",
    "model = bidirectional_LSTM(context_size, len(word2idx), D, word2idx, word2vec, n_nodes)\n"
   ]
  },
  {
   "cell_type": "code",
   "execution_count": 153,
   "id": "28a907f3",
   "metadata": {},
   "outputs": [
    {
     "data": {
      "text/plain": [
       "device(type='cuda')"
      ]
     },
     "execution_count": 153,
     "metadata": {},
     "output_type": "execute_result"
    }
   ],
   "source": [
    "device = th.device('cuda' if th.cuda.is_available() else 'cpu')\n",
    "device"
   ]
  },
  {
   "cell_type": "code",
   "execution_count": 154,
   "id": "336ca8c8",
   "metadata": {},
   "outputs": [
    {
     "data": {
      "text/plain": [
       "bidirectional_LSTM(\n",
       "  (loss_fun): NLLLoss()\n",
       "  (embedding): Embedding(85307, 300)\n",
       "  (bi_lstm): LSTM(300, 128, batch_first=True, dropout=0.2, bidirectional=True)\n",
       "  (fc_layer): Linear(in_features=256, out_features=85306, bias=True)\n",
       "  (relu_layer): ReLU()\n",
       ")"
      ]
     },
     "execution_count": 154,
     "metadata": {},
     "output_type": "execute_result"
    }
   ],
   "source": [
    "model.to(device)"
   ]
  },
  {
   "cell_type": "code",
   "execution_count": 155,
   "id": "9459e144",
   "metadata": {},
   "outputs": [],
   "source": [
    "X1 = X.to(device)\n",
    "Y1 = Y.to(device)"
   ]
  },
  {
   "cell_type": "markdown",
   "id": "86862d0e",
   "metadata": {},
   "source": [
    "### TopK =  1 Training"
   ]
  },
  {
   "cell_type": "code",
   "execution_count": 157,
   "id": "8d7b6b25",
   "metadata": {},
   "outputs": [
    {
     "name": "stdout",
     "output_type": "stream",
     "text": [
      "Running loss per batch epoch 1/5 on batch 6124/6124: 8.203\t Running accuracy: 0.029 Epoch done:100.0000%\n",
      "Getting train_accuracy, train_loss after 1 epoch\n",
      "Getting validation_accuracy, validation_loss 1 epoch\n",
      "Epoch 1/5\tTraining loss: 8.128\tTraining accuracy: 0.036\tValidation loss: 8.390\tValidation accuracy: 0.031\n",
      "Running loss per batch epoch 2/5 on batch 6124/6124: 8.032\t Running accuracy: 0.038 Epoch done:100.0000%\n",
      "Getting train_accuracy, train_loss after 2 epoch\n",
      "Getting validation_accuracy, validation_loss 2 epoch\n",
      "Epoch 2/5\tTraining loss: 8.235\tTraining accuracy: 0.036\tValidation loss: 8.562\tValidation accuracy: 0.031\n",
      "Running loss per batch epoch 3/5 on batch 6124/6124: 7.953\t Running accuracy: 0.042 Epoch done:100.0000%\n",
      "Getting train_accuracy, train_loss after 3 epoch\n",
      "Getting validation_accuracy, validation_loss 3 epoch\n",
      "Epoch 3/5\tTraining loss: 8.411\tTraining accuracy: 0.040\tValidation loss: 8.864\tValidation accuracy: 0.035\n",
      "Running loss per batch epoch 4/5 on batch 6124/6124: 7.920\t Running accuracy: 0.043 Epoch done:100.0000%\n",
      "Getting train_accuracy, train_loss after 4 epoch\n",
      "Getting validation_accuracy, validation_loss 4 epoch\n",
      "Epoch 4/5\tTraining loss: 8.174\tTraining accuracy: 0.043\tValidation loss: 8.773\tValidation accuracy: 0.037\n",
      "Running loss per batch epoch 5/5 on batch 6124/6124: 7.841\t Running accuracy: 0.043 Epoch done:100.0000%\n",
      "Getting train_accuracy, train_loss after 5 epoch\n",
      "Getting validation_accuracy, validation_loss 5 epoch\n",
      "Epoch 5/5\tTraining loss: 8.465\tTraining accuracy: 0.041\tValidation loss: 9.120\tValidation accuracy: 0.035\n",
      "Time taken for training 5 epochs on V100 GPU: 1136.496s\n"
     ]
    }
   ],
   "source": [
    "batch_size = 256\n",
    "import time\n",
    "start = time.time()\n",
    "history_top1 = model.fit(X1, Y1, optimizer, batch_size, epochs, local = True, topk_pred = 1)\n",
    "end = time.time()\n",
    "print(\"Time taken for training {} epochs on V100 GPU: {}s\".format(epochs, round(end-start,4)))"
   ]
  },
  {
   "cell_type": "code",
   "execution_count": 188,
   "id": "1abd6b96",
   "metadata": {},
   "outputs": [],
   "source": [
    "history_top1 = history"
   ]
  },
  {
   "cell_type": "code",
   "execution_count": 158,
   "id": "b326c2f3",
   "metadata": {},
   "outputs": [],
   "source": [
    "model_file = \"/home/spa2138/data/LSTM_model_top1.pth\"\n",
    "th.save(model.state_dict(), model_file)"
   ]
  },
  {
   "cell_type": "markdown",
   "id": "fe0b31c0",
   "metadata": {},
   "source": [
    "### Example Inference"
   ]
  },
  {
   "cell_type": "code",
   "execution_count": 170,
   "id": "ea16adeb",
   "metadata": {},
   "outputs": [],
   "source": [
    "def print_predictions(sentence, model):\n",
    "    device = th.device('cuda' if th.cuda.is_available() else 'cpu')\n",
    "    model = model.to(device)\n",
    "    sequence = [model.word2idx[word] for word in sentence]\n",
    "    splitted = split_X_and_Y(sequence)    \n",
    "    X, Y = extend_data([splitted.X], [splitted.Y], model.context_size)\n",
    "    X, Y = th.tensor(X), th.tensor(Y)\n",
    "    X = X.to(device)\n",
    "    Y = Y.to(device)\n",
    "    model.h_lstm = model._init_hidden(len(X))\n",
    "    preds = tnn.functional.softmax(model.forward(X), dim = 1).topk(3, dim = 1)[1]\n",
    "    for idx, pred in enumerate(preds[1:-1]):\n",
    "        word_preds = []        \n",
    "        for idx2 in pred:\n",
    "            word_preds.append(model.idx2word[int(idx2)])            \n",
    "        prev_word = sentence[idx]\n",
    "        expected_word = sentence[idx + 1]\n",
    "        print(\"Previous word: {} \\t Expected word: {} \\t Predictions: {}\\t{}\\t{}\".format(prev_word, expected_word, *word_preds))"
   ]
  },
  {
   "cell_type": "code",
   "execution_count": 185,
   "id": "e0f04aec",
   "metadata": {},
   "outputs": [
    {
     "name": "stdout",
     "output_type": "stream",
     "text": [
      "feels good back\n",
      "Previous word: feels \t Expected word: good \t Predictions: good\tok\tlol\n"
     ]
    }
   ],
   "source": [
    "sentence_example = \"Feels good to be back\"\n",
    "cleaned_sentence = get_cleaned_text(sentence_example, stop_words, stemmer).split()\n",
    "print(\" \".join(cleaned_sentence))\n",
    "print_predictions(cleaned_sentence, model)"
   ]
  },
  {
   "cell_type": "markdown",
   "id": "0c2f0654",
   "metadata": {},
   "source": [
    "### TopK =  3 Training"
   ]
  },
  {
   "cell_type": "code",
   "execution_count": 196,
   "id": "76344da9",
   "metadata": {},
   "outputs": [
    {
     "data": {
      "text/plain": [
       "device(type='cuda')"
      ]
     },
     "execution_count": 196,
     "metadata": {},
     "output_type": "execute_result"
    }
   ],
   "source": [
    "device = th.device('cuda' if th.cuda.is_available() else 'cpu')\n",
    "device"
   ]
  },
  {
   "cell_type": "code",
   "execution_count": 197,
   "id": "470fed91",
   "metadata": {},
   "outputs": [
    {
     "name": "stderr",
     "output_type": "stream",
     "text": [
      "100%|████████████████████████████████████████████████████████████████████████████████████████████████████████████████████████████████████████████████████████████████████| 85306/85306 [00:00<00:00, 698837.67it/s]\n"
     ]
    },
    {
     "data": {
      "text/plain": [
       "bidirectional_LSTM(\n",
       "  (loss_fun): NLLLoss()\n",
       "  (embedding): Embedding(85307, 300)\n",
       "  (bi_lstm): LSTM(300, 128, batch_first=True, dropout=0.2, bidirectional=True)\n",
       "  (fc_layer): Linear(in_features=256, out_features=85306, bias=True)\n",
       "  (relu_layer): ReLU()\n",
       ")"
      ]
     },
     "execution_count": 197,
     "metadata": {},
     "output_type": "execute_result"
    }
   ],
   "source": [
    "model_top3 = bidirectional_LSTM(context_size, len(word2idx), D, word2idx, word2vec, n_nodes)\n",
    "model_top3.to(device)"
   ]
  },
  {
   "cell_type": "code",
   "execution_count": 198,
   "id": "cdbd4e8d",
   "metadata": {},
   "outputs": [
    {
     "name": "stdout",
     "output_type": "stream",
     "text": [
      "Running loss per batch epoch 1/5 on batch 6124/6124: 8.202\t Running accuracy: 0.029 Epoch done:100.0000%\n",
      "Getting train_accuracy, train_loss after 1 epoch\n",
      "Getting validation_accuracy, validation_loss 1 epoch\n",
      "Epoch 1/5  Training loss: 8.006   Training accuracy: 0.036\tValidation loss: 8.285  Validation accuracy: 0.032\n",
      "Running loss per batch epoch 2/5 on batch 6124/6124: 8.040\t Running accuracy: 0.039 Epoch done:100.0000%\n",
      "Getting train_accuracy, train_loss after 2 epoch\n",
      "Getting validation_accuracy, validation_loss 2 epoch\n",
      "Epoch 2/5  Training loss: 8.115   Training accuracy: 0.036\tValidation loss: 8.428  Validation accuracy: 0.032\n",
      "Running loss per batch epoch 3/5 on batch 6124/6124: 7.946\t Running accuracy: 0.042 Epoch done:100.0000%\n",
      "Getting train_accuracy, train_loss after 3 epoch\n",
      "Getting validation_accuracy, validation_loss 3 epoch\n",
      "Epoch 3/5  Training loss: 8.363   Training accuracy: 0.040\tValidation loss: 8.804  Validation accuracy: 0.035\n",
      "Running loss per batch epoch 4/5 on batch 6124/6124: 7.953\t Running accuracy: 0.043 Epoch done:100.0000%\n",
      "Getting train_accuracy, train_loss after 4 epoch\n",
      "Getting validation_accuracy, validation_loss 4 epoch\n",
      "Epoch 4/5  Training loss: 8.219   Training accuracy: 0.041\tValidation loss: 8.843  Validation accuracy: 0.035\n",
      "Running loss per batch epoch 5/5 on batch 6124/6124: 7.737\t Running accuracy: 0.045 Epoch done:100.0000%\n",
      "Getting train_accuracy, train_loss after 5 epoch\n",
      "Getting validation_accuracy, validation_loss 5 epoch\n",
      "Epoch 5/5  Training loss: 8.385   Training accuracy: 0.040\tValidation loss: 9.032  Validation accuracy: 0.033\n",
      "Time taken for training 5 epochs on V100 GPU: 2456.0669s\n"
     ]
    }
   ],
   "source": [
    "start = time.time()\n",
    "history_top3 = model_top3.fit(X1, Y1, optimizer, batch_size, epochs, local = True, topk_pred = 3)\n",
    "end = time.time()\n",
    "print(\"Time taken for training {} epochs on V100 GPU: {}s\".format(epochs, round(end-start,4)))"
   ]
  },
  {
   "cell_type": "markdown",
   "id": "8d76711b",
   "metadata": {},
   "source": [
    "## Plots"
   ]
  },
  {
   "cell_type": "code",
   "execution_count": 201,
   "id": "cb58acbd",
   "metadata": {},
   "outputs": [],
   "source": [
    "epochs = [1,2,3,4,5]\n",
    "import matplotlib.pyplot as plt"
   ]
  },
  {
   "cell_type": "code",
   "execution_count": 203,
   "id": "42ff1622",
   "metadata": {},
   "outputs": [
    {
     "data": {
      "text/plain": [
       "{'train_acc': [0.035656331645983017,\n",
       "  0.03570161965218811,\n",
       "  0.03952112079523187,\n",
       "  0.04281056090790333,\n",
       "  0.04104943153984324],\n",
       " 'topk_train_acc': [0, 0, 0, 0, 0],\n",
       " 'train_loss': [8.128173243213059,\n",
       "  8.234707453918956,\n",
       "  8.411149268832416,\n",
       "  8.173653468986029,\n",
       "  8.464700908150103],\n",
       " 'val_acc': [0.030907436191099476,\n",
       "  0.031150298592931936,\n",
       "  0.03497218586387434,\n",
       "  0.03713493946335079,\n",
       "  0.03455804155759162],\n",
       " 'topk_val_acc': [0, 0, 0, 0, 0],\n",
       " 'val_loss': [8.390184111620119,\n",
       "  8.562212844169578,\n",
       "  8.864187852250344,\n",
       "  8.772740431481006,\n",
       "  9.12001677458199]}"
      ]
     },
     "execution_count": 203,
     "metadata": {},
     "output_type": "execute_result"
    }
   ],
   "source": [
    "history"
   ]
  },
  {
   "cell_type": "code",
   "execution_count": 214,
   "id": "ab34b9c2",
   "metadata": {},
   "outputs": [
    {
     "data": {
      "image/png": "[encoded data removed]",
      "text/plain": [
       "<Figure size 640x480 with 1 Axes>"
      ]
     },
     "metadata": {},
     "output_type": "display_data"
    }
   ],
   "source": [
    "barWidth = 0.25\n",
    "# Set position of bar on X axis\n",
    "br1 = np.arange(len(epochs))\n",
    "br2 = [x + barWidth for x in br1]\n",
    "\n",
    "fig = plt.figure()\n",
    "plt.bar(br1, history['train_acc'], color ='b', width = barWidth, edgecolor ='grey', label ='Training Accuracy')\n",
    "plt.bar(br2, history['val_acc'], color ='g', width = barWidth, edgecolor ='grey', label ='Validation Accuracy')\n",
    "\n",
    "plt.title(\"Top 1 Predictions\")\n",
    "plt.xlabel('Epoch', fontweight ='bold', fontsize = 15)\n",
    "plt.ylabel('Accuracy', fontweight ='bold', fontsize = 15)\n",
    "plt.xticks([r + barWidth for r in range(len(epochs))], epochs)\n",
    " \n",
    "plt.legend()\n",
    "plt.show()"
   ]
  },
  {
   "cell_type": "code",
   "execution_count": 215,
   "id": "8a3a5954",
   "metadata": {},
   "outputs": [
    {
     "data": {
      "image/png": "[encoded data removed]",
      "text/plain": [
       "<Figure size 640x480 with 1 Axes>"
      ]
     },
     "metadata": {},
     "output_type": "display_data"
    }
   ],
   "source": [
    "barWidth = 0.25\n",
    "# Set position of bar on X axis\n",
    "br1 = np.arange(len(epochs))\n",
    "br2 = [x + barWidth for x in br1]\n",
    "\n",
    "fig = plt.figure()\n",
    "plt.bar(br1, history_top3['train_acc'], color ='b', width = barWidth, edgecolor ='grey', label ='Training Accuracy')\n",
    "plt.bar(br2, history_top3['val_acc'], color ='g', width = barWidth, edgecolor ='grey', label ='Validation Accuracy')\n",
    "\n",
    "plt.title(\"Top 3 Predictions\")\n",
    "plt.xlabel('Epoch', fontweight ='bold', fontsize = 15)\n",
    "plt.ylabel('Accuracy', fontweight ='bold', fontsize = 15)\n",
    "plt.xticks([r + barWidth for r in range(len(epochs))], epochs)\n",
    " \n",
    "plt.legend()\n",
    "plt.show()"
   ]
  },
  {
   "cell_type": "code",
   "execution_count": 217,
   "id": "55968e74",
   "metadata": {},
   "outputs": [
    {
     "data": {
      "image/png": "[encoded data removed]",
      "text/plain": [
       "<Figure size 640x480 with 1 Axes>"
      ]
     },
     "metadata": {},
     "output_type": "display_data"
    }
   ],
   "source": [
    "barWidth = 0.25\n",
    "# Set position of bar on X axis\n",
    "br1 = np.arange(len(epochs))\n",
    "br2 = [x + barWidth for x in br1]\n",
    "\n",
    "fig = plt.figure()\n",
    "plt.bar(br1, history['train_acc'], color ='b', width = barWidth, edgecolor ='grey', label ='Top 1')\n",
    "plt.bar(br2, history_top3['train_acc'], color ='g', width = barWidth, edgecolor ='grey', label ='Top 3')\n",
    "\n",
    "plt.title(\"Validation Accuracy Comparision\")\n",
    "plt.xlabel('Epoch', fontweight ='bold', fontsize = 15)\n",
    "plt.ylabel('Accuracy', fontweight ='bold', fontsize = 15)\n",
    "plt.xticks([r + barWidth for r in range(len(epochs))], epochs)\n",
    " \n",
    "plt.legend()\n",
    "plt.show()"
   ]
  },
  {
   "cell_type": "code",
   "execution_count": null,
   "id": "a2c7246b",
   "metadata": {},
   "outputs": [],
   "source": []
  }
 ],
 "metadata": {
  "kernelspec": {
   "display_name": "Python 3",
   "language": "python",
   "name": "python3"
  },
  "language_info": {
   "codemirror_mode": {
    "name": "ipython",
    "version": 3
   },
   "file_extension": ".py",
   "mimetype": "text/x-python",
   "name": "python",
   "nbconvert_exporter": "python",
   "pygments_lexer": "ipython3",
   "version": "3.8.8"
  }
 },
 "nbformat": 4,
 "nbformat_minor": 5
}
