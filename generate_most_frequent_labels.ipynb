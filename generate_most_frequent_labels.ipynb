{
 "cells": [
  {
   "cell_type": "code",
   "execution_count": 1,
   "id": "54584633",
   "metadata": {
    "scrolled": true
   },
   "outputs": [
    {
     "name": "stderr",
     "output_type": "stream",
     "text": [
      "2022-12-19 01:49:53.538163: I tensorflow/core/platform/cpu_feature_guard.cc:193] This TensorFlow binary is optimized with oneAPI Deep Neural Network Library (oneDNN) to use the following CPU instructions in performance-critical operations:  AVX2 AVX512F FMA\n",
      "To enable them in other operations, rebuild TensorFlow with the appropriate compiler flags.\n",
      "2022-12-19 01:49:54.152259: E tensorflow/stream_executor/cuda/cuda_blas.cc:2981] Unable to register cuBLAS factory: Attempting to register factory for plugin cuBLAS when one has already been registered\n",
      "2022-12-19 01:49:55.462414: W tensorflow/stream_executor/platform/default/dso_loader.cc:64] Could not load dynamic library 'libnvinfer.so.7'; dlerror: libnvinfer.so.7: cannot open shared object file: No such file or directory; LD_LIBRARY_PATH: /usr/local/cuda/lib64:/usr/local/nccl2/lib:/usr/local/cuda/extras/CUPTI/lib64\n",
      "2022-12-19 01:49:55.462554: W tensorflow/stream_executor/platform/default/dso_loader.cc:64] Could not load dynamic library 'libnvinfer_plugin.so.7'; dlerror: libnvinfer_plugin.so.7: cannot open shared object file: No such file or directory; LD_LIBRARY_PATH: /usr/local/cuda/lib64:/usr/local/nccl2/lib:/usr/local/cuda/extras/CUPTI/lib64\n",
      "2022-12-19 01:49:55.462565: W tensorflow/compiler/tf2tensorrt/utils/py_utils.cc:38] TF-TRT Warning: Cannot dlopen some TensorRT libraries. If you would like to use Nvidia GPU with TensorRT, please make sure the missing libraries mentioned above are installed properly.\n"
     ]
    }
   ],
   "source": [
    "# imports \n",
    "\n",
    "import numpy as np\n",
    "import tensorflow as tf\n",
    "import tensorflow_federated as tff\n",
    "import collections\n",
    "\n",
    "np.random.seed(0)"
   ]
  },
  {
   "cell_type": "code",
   "execution_count": 2,
   "id": "61ea7a64",
   "metadata": {
    "scrolled": true
   },
   "outputs": [
    {
     "name": "stderr",
     "output_type": "stream",
     "text": [
      "2022-12-19 01:49:59.976973: I tensorflow/stream_executor/cuda/cuda_gpu_executor.cc:980] successful NUMA node read from SysFS had negative value (-1), but there must be at least one NUMA node, so returning NUMA node zero\n",
      "2022-12-19 01:50:00.058503: I tensorflow/stream_executor/cuda/cuda_gpu_executor.cc:980] successful NUMA node read from SysFS had negative value (-1), but there must be at least one NUMA node, so returning NUMA node zero\n",
      "2022-12-19 01:50:00.058903: I tensorflow/stream_executor/cuda/cuda_gpu_executor.cc:980] successful NUMA node read from SysFS had negative value (-1), but there must be at least one NUMA node, so returning NUMA node zero\n",
      "2022-12-19 01:50:00.061656: I tensorflow/core/platform/cpu_feature_guard.cc:193] This TensorFlow binary is optimized with oneAPI Deep Neural Network Library (oneDNN) to use the following CPU instructions in performance-critical operations:  AVX2 AVX512F FMA\n",
      "To enable them in other operations, rebuild TensorFlow with the appropriate compiler flags.\n",
      "2022-12-19 01:50:00.062914: I tensorflow/stream_executor/cuda/cuda_gpu_executor.cc:980] successful NUMA node read from SysFS had negative value (-1), but there must be at least one NUMA node, so returning NUMA node zero\n",
      "2022-12-19 01:50:00.063257: I tensorflow/stream_executor/cuda/cuda_gpu_executor.cc:980] successful NUMA node read from SysFS had negative value (-1), but there must be at least one NUMA node, so returning NUMA node zero\n",
      "2022-12-19 01:50:00.063548: I tensorflow/stream_executor/cuda/cuda_gpu_executor.cc:980] successful NUMA node read from SysFS had negative value (-1), but there must be at least one NUMA node, so returning NUMA node zero\n",
      "2022-12-19 01:50:01.430043: I tensorflow/stream_executor/cuda/cuda_gpu_executor.cc:980] successful NUMA node read from SysFS had negative value (-1), but there must be at least one NUMA node, so returning NUMA node zero\n",
      "2022-12-19 01:50:01.430434: I tensorflow/stream_executor/cuda/cuda_gpu_executor.cc:980] successful NUMA node read from SysFS had negative value (-1), but there must be at least one NUMA node, so returning NUMA node zero\n",
      "2022-12-19 01:50:01.430706: I tensorflow/stream_executor/cuda/cuda_gpu_executor.cc:980] successful NUMA node read from SysFS had negative value (-1), but there must be at least one NUMA node, so returning NUMA node zero\n",
      "2022-12-19 01:50:01.430876: I tensorflow/core/common_runtime/gpu/gpu_device.cc:1616] Created device /job:localhost/replica:0/task:0/device:GPU:0 with 6872 MB memory:  -> device: 0, name: Tesla P4, pci bus id: 0000:00:04.0, compute capability: 6.1\n"
     ]
    }
   ],
   "source": [
    "# download MNIST data \n",
    "\n",
    "train, test = tff.simulation.datasets.emnist.load_data()"
   ]
  },
  {
   "cell_type": "code",
   "execution_count": 4,
   "id": "82d012c6",
   "metadata": {
    "scrolled": true
   },
   "outputs": [
    {
     "data": {
      "text/plain": [
       "3383"
      ]
     },
     "execution_count": 4,
     "metadata": {},
     "output_type": "execute_result"
    }
   ],
   "source": [
    "NUM_CLIENTS = len(train.client_ids)\n",
    "NUM_CLIENTS"
   ]
  },
  {
   "cell_type": "markdown",
   "id": "84dc31ff",
   "metadata": {},
   "source": [
    "**From the train dataset, we construct a dataset to simulate the \"only positive labels\" setting. This constitutes the following:**\n",
    "\n",
    "1. Overall, we have a multi-label classification scheme. \n",
    "\n",
    "2. However, each local client only has access to labels from one class. \n",
    "\n",
    "3. In the original paper, the CIFAR-10 dataset is used for image classification in an \"only positive labels\" setting. \n",
    "\n",
    "4. However, we note that CIFAR-10 is a dataset which is not as reflective of how the \"only positive labels\" scheme could happen in real life as MNIST. This is because CIFAR-10 is originally sourced from the Tiny Images dataset, which was constructed via downloading images returned from internet search. Hence, there is no \"personalization\" aspect. On the other hand, MNIST is by nature and origin personalized -- for the total dataset of 60,000 images, there are 3383 total clients (or original writers) who wrote the handwritten digit. Hence, it is more realistic.\n",
    "\n",
    "**As such, we separate train into 3383 different datasets which will then be distributed into 3383 participating clients in the federated learning process.**"
   ]
  },
  {
   "cell_type": "markdown",
   "id": "c9230274",
   "metadata": {},
   "source": [
    "**From the train dataset, we construct a dataset to simulate the \"only positive labels\" setting. This constitutes the following:**\n",
    "\n",
    "1. Overall, we have a multi-label classification scheme. \n",
    "\n",
    "2. However, each local client only has access to labels from one class. \n",
    "\n",
    "3. In the original paper, the CIFAR-10 dataset is used for image classification in an \"only positive labels\" setting. \n",
    "\n",
    "4. However, we note that CIFAR-10 is a dataset which is not as reflective of how the \"only positive labels\" scheme could happen in real life as MNIST. This is because CIFAR-10 is originally sourced from the Tiny Images dataset, which was constructed via downloading images returned from internet search. Hence, there is no \"personalization\" aspect. On the other hand, MNIST is by nature and origin personalized -- for the total dataset of 60,000 images, there are 3383 total clients (or original writers) who wrote the handwritten digit. Hence, it is more realistic.\n",
    "\n",
    "**As such, we separate train into 3383 different datasets which will then be distributed into 3383 participating clients in the federated learning process.**"
   ]
  },
  {
   "cell_type": "code",
   "execution_count": null,
   "id": "8a65c273",
   "metadata": {},
   "outputs": [],
   "source": [
    "# obtain the most frequent label for each of the 3383 clients\n",
    "\n",
    "import time\n",
    "\n",
    "# d = {} # :400\n",
    "# d2 = {} # 400:800\n",
    "# d3 = {} # 800:1200\n",
    "# d4 = {} # 1200:1600\n",
    "# d5 = {} # 1600:2000\n",
    "# d6 = {} # 2000:2400\n",
    "# d7 = {} # 2400:2800\n",
    "d8 = {} # 2800:NUM_CLIENTS\n",
    "start = time.time()\n",
    "for i in range(2800, NUM_CLIENTS):\n",
    "    client_dataset = train.create_tf_dataset_for_client(train.client_ids[i])\n",
    "    d8[i] = collections.defaultdict(int)\n",
    "    for ex in client_dataset: \n",
    "        lab = ex['label'].numpy()\n",
    "        d8[i][lab] += 1\n",
    "end = time.time()\n",
    "\n",
    "# combine the dictionaries together \n",
    "\n",
    "d1 = d\n",
    "d1.update(d2)\n",
    "d1.update(d3)\n",
    "d1.update(d4)\n",
    "d1.update(d5)\n",
    "d1.update(d6)\n",
    "d1.update(d7)\n",
    "d1.update(d8)"
   ]
  },
  {
   "cell_type": "code",
   "execution_count": null,
   "id": "dc0d4139",
   "metadata": {},
   "outputs": [],
   "source": [
    "aux = dict(zip(d1.keys(), [max(d1[i], key=d1[i].get) for i in d1.keys()]))\n",
    "\n",
    "import json\n",
    "with open('most_frequent_labels.json', 'w') as fp:\n",
    "    json.dump(aux, fp)"
   ]
  }
 ],
 "metadata": {
  "kernelspec": {
   "display_name": "Python 3 (ipykernel)",
   "language": "python",
   "name": "python3"
  },
  "language_info": {
   "codemirror_mode": {
    "name": "ipython",
    "version": 3
   },
   "file_extension": ".py",
   "mimetype": "text/x-python",
   "name": "python",
   "nbconvert_exporter": "python",
   "pygments_lexer": "ipython3",
   "version": "3.9.15"
  }
 },
 "nbformat": 4,
 "nbformat_minor": 5
}
