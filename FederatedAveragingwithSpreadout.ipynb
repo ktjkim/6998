{
 "cells": [
  {
   "cell_type": "code",
   "execution_count": 2,
   "metadata": {},
   "outputs": [],
   "source": [
    "import nest_asyncio\n",
    "nest_asyncio.apply()\n",
    "\n",
    "import tensorflow as tf\n",
    "import tensorflow_federated as tff\n",
    "from tensorflow import TensorSpec\n",
    "from tensorflow.data import Dataset\n",
    "from tensorflow_federated.python.simulation.datasets import ClientData"
   ]
  },
  {
   "cell_type": "code",
   "execution_count": 3,
   "id": "fc2dbddb",
   "metadata": {},
   "outputs": [
    {
     "name": "stdout",
     "output_type": "stream",
     "text": [
      "Metal device set to: Apple M1\n",
      "\n",
      "systemMemory: 8.00 GB\n",
      "maxCacheSize: 2.67 GB\n",
      "\n"
     ]
    }
   ],
   "source": [
    "train, test = tff.simulation.datasets.emnist.load_data()"
   ]
  },
  {
   "cell_type": "code",
   "execution_count": 30,
   "id": "5d39d2e0",
   "metadata": {},
   "outputs": [],
   "source": [
    "import json\n",
    "\n",
    "f = open('most_frequent_labels.json')\n",
    "d = json.load(f)\n",
    "d2 = {}\n",
    "for k, v in d.items(): \n",
    "    d2[train.client_ids[int(k)]] = v"
   ]
  },
  {
   "cell_type": "code",
   "execution_count": 31,
   "id": "a9914f83",
   "metadata": {},
   "outputs": [],
   "source": [
    "BATCH_SIZE = 500\n",
    "\n",
    "def preprocess(dataset):\n",
    "\n",
    "  def helper(element):\n",
    "    return (tf.reshape(element['pixels'], [-1, 28*28]), \n",
    "            tf.reshape(element['label'], [-1, 1]))\n",
    "\n",
    "  return dataset.batch(BATCH_SIZE).map(helper)"
   ]
  },
  {
   "cell_type": "code",
   "execution_count": 33,
   "id": "06062e91",
   "metadata": {},
   "outputs": [],
   "source": [
    "def aux(client_id):\n",
    "    dataset = train.create_tf_dataset_for_client(client_id)\n",
    "    out = preprocess(dataset)\n",
    "    out = next(iter(out))\n",
    "    # xs = out['x']\n",
    "    # ys = out['y']\n",
    "    xs = out[0]\n",
    "    ys = out[1]\n",
    "    \n",
    "    y_ind = tf.where(ys == d2[client_id]) \n",
    "    # d2[client_id] corresponds to the most frequent label in that client dataset\n",
    "    gathered_ys = tf.gather_nd(ys, y_ind)\n",
    "    \n",
    "    x_ind = y_ind[:, 0]\n",
    "    gathered_xs = tf.gather(xs, x_ind)\n",
    "    \n",
    "    return (gathered_xs, gathered_ys)\n",
    "    # return OrderedDict([('x', gathered_xs), ('y', gathered_ys)])"
   ]
  },
  {
   "cell_type": "code",
   "execution_count": 51,
   "id": "3b24f165",
   "metadata": {},
   "outputs": [],
   "source": [
    "def dt_fn(client_id): \n",
    "    store = aux(client_id)\n",
    "    return Dataset.from_tensor_slices((store[0], store[1]))"
   ]
  },
  {
   "cell_type": "code",
   "execution_count": 52,
   "id": "503f7a74",
   "metadata": {},
   "outputs": [],
   "source": [
    "cd = ClientData.from_clients_and_tf_fn(train.client_ids, dt_fn) "
   ]
  },
  {
   "cell_type": "code",
   "execution_count": 56,
   "id": "27193e41",
   "metadata": {},
   "outputs": [],
   "source": [
    "def make_federated_data(client_data, client_ids):\n",
    "    return [preprocess(client_data.create_tf_dataset_for_client(x))\n",
    "      for x in client_ids]"
   ]
  },
  {
   "cell_type": "code",
   "execution_count": 57,
   "id": "eea76e4d",
   "metadata": {},
   "outputs": [],
   "source": [
    "client_ids = sorted(train.client_ids)[:10]\n",
    "federated_train_data = [preprocess(train.create_tf_dataset_for_client(x))\n",
    "  for x in client_ids\n",
    "]"
   ]
  },
  {
   "cell_type": "code",
   "execution_count": 6,
   "id": "0e2b3694",
   "metadata": {},
   "outputs": [],
   "source": [
    "def create_keras_model():\n",
    "  initializer = tf.keras.initializers.GlorotNormal(seed=0)\n",
    "  return tf.keras.models.Sequential([\n",
    "      tf.keras.layers.Input(shape=(784,)),\n",
    "      tf.keras.layers.Dense(10, kernel_initializer=initializer),\n",
    "      tf.keras.layers.Softmax(),\n",
    "  ])\n",
    "\n",
    "def model_fn():\n",
    "  keras_model = create_keras_model()\n",
    "  return tff.learning.from_keras_model(\n",
    "    keras_model,\n",
    "    input_spec=federated_train_data[0].element_spec,\n",
    "    loss=tf.keras.losses.SparseCategoricalCrossentropy(),\n",
    "    metrics=[tf.keras.metrics.SparseCategoricalAccuracy()])"
   ]
  },
  {
   "cell_type": "code",
   "execution_count": 7,
   "id": "66c13410",
   "metadata": {},
   "outputs": [],
   "source": [
    "def next_fn(server_weights, federated_dataset):\n",
    "  # Broadcast the server weights to the clients.\n",
    "  server_weights_at_client = broadcast(server_weights)\n",
    "\n",
    "  # Each client computes their updated weights.\n",
    "  client_weights = client_update(federated_dataset, server_weights_at_client)\n",
    "\n",
    "  # The server averages these updates.\n",
    "  mean_client_weights = mean(client_weights)\n",
    "\n",
    "  # The server updates its model.\n",
    "  server_weights = server_update(mean_client_weights)\n",
    "\n",
    "  return server_weights"
   ]
  },
  {
   "cell_type": "code",
   "execution_count": 8,
   "id": "cf119522",
   "metadata": {},
   "outputs": [],
   "source": [
    "@tf.function\n",
    "def client_update(model, dataset, server_weights, client_optimizer):\n",
    "  \"\"\"Performs training (using the server model weights) on the client's dataset.\"\"\"\n",
    "  # Initialize the client model with the current server weights.\n",
    "  client_weights = model.trainable_variables\n",
    "  # Assign the server weights to the client model.\n",
    "  tf.nest.map_structure(lambda x, y: x.assign(y),\n",
    "                        client_weights, server_weights)\n",
    "\n",
    "  # Use the client_optimizer to update the local model.\n",
    "  for batch in dataset:\n",
    "    with tf.GradientTape() as tape:\n",
    "      # Compute a forward pass on the batch of data\n",
    "      outputs = model.forward_pass(batch)\n",
    "\n",
    "    # Compute the corresponding gradient\n",
    "    grads = tape.gradient(outputs.loss, client_weights)\n",
    "    grads_and_vars = zip(grads, client_weights)\n",
    "\n",
    "    # Apply the gradient using a client optimizer.\n",
    "    client_optimizer.apply_gradients(grads_and_vars)\n",
    "\n",
    "  return client_weights"
   ]
  },
  {
   "cell_type": "code",
   "execution_count": 9,
   "id": "8d19a25e",
   "metadata": {},
   "outputs": [],
   "source": [
    "@tf.function\n",
    "def server_update(model, mean_client_weights):\n",
    "  \"\"\"Updates the server model weights as the average of the client model weights.\"\"\"\n",
    "  model_weights = model.trainable_variables\n",
    "  # Assign the mean client weights to the server model.\n",
    "  tf.nest.map_structure(lambda x, y: x.assign(y),\n",
    "                        model_weights, mean_client_weights)\n",
    "  return model_weights"
   ]
  },
  {
   "cell_type": "code",
   "execution_count": 10,
   "id": "8134c991",
   "metadata": {},
   "outputs": [],
   "source": [
    "@tff.tf_computation\n",
    "def server_init():\n",
    "  model = model_fn()\n",
    "  return model.trainable_variables"
   ]
  },
  {
   "cell_type": "code",
   "execution_count": 11,
   "id": "7fc10682",
   "metadata": {},
   "outputs": [],
   "source": [
    "@tff.federated_computation\n",
    "def initialize_fn():\n",
    "  return tff.federated_value(server_init(), tff.SERVER)"
   ]
  },
  {
   "cell_type": "code",
   "execution_count": 12,
   "id": "b36b085e",
   "metadata": {},
   "outputs": [
    {
     "data": {
      "text/plain": [
       "SequenceType(StructType([TensorType(tf.float32, [None, 784]), TensorType(tf.int32, [None, 1])]) as tuple)"
      ]
     },
     "execution_count": 12,
     "metadata": {},
     "output_type": "execute_result"
    }
   ],
   "source": [
    "tf_dataset_type = tff.SequenceType(model_fn().input_spec)\n",
    "tf_dataset_type"
   ]
  },
  {
   "cell_type": "code",
   "execution_count": 32,
   "id": "e8bcf9fb",
   "metadata": {},
   "outputs": [
    {
     "data": {
      "text/plain": [
       "'<float32[?,784],int32[?,1]>*'"
      ]
     },
     "execution_count": 32,
     "metadata": {},
     "output_type": "execute_result"
    }
   ],
   "source": [
    "str(tf_dataset_type)"
   ]
  },
  {
   "cell_type": "code",
   "execution_count": 13,
   "id": "8501a42a",
   "metadata": {},
   "outputs": [
    {
     "data": {
      "text/plain": [
       "StructType([TensorType(tf.float32, [784, 10]), TensorType(tf.float32, [10])]) as list"
      ]
     },
     "execution_count": 13,
     "metadata": {},
     "output_type": "execute_result"
    }
   ],
   "source": [
    "model_weights_type = server_init.type_signature.result\n",
    "model_weights_type"
   ]
  },
  {
   "cell_type": "code",
   "execution_count": 14,
   "id": "88682245",
   "metadata": {},
   "outputs": [],
   "source": [
    "@tff.tf_computation(tf_dataset_type, model_weights_type)\n",
    "def client_update_fn(tf_dataset, server_weights):\n",
    "  model = model_fn()\n",
    "  client_optimizer = tf.keras.optimizers.SGD(learning_rate=0.01)\n",
    "  return client_update(model, tf_dataset, server_weights, client_optimizer)"
   ]
  },
  {
   "cell_type": "code",
   "execution_count": 15,
   "id": "b8aea636",
   "metadata": {},
   "outputs": [],
   "source": [
    "@tff.tf_computation(model_weights_type)\n",
    "def server_update_fn(mean_client_weights):\n",
    "  model = model_fn()\n",
    "  return server_update(model, mean_client_weights)"
   ]
  },
  {
   "cell_type": "code",
   "execution_count": 16,
   "id": "83dea1b1",
   "metadata": {},
   "outputs": [],
   "source": [
    "federated_server_type = tff.FederatedType(model_weights_type, tff.SERVER)\n",
    "federated_dataset_type = tff.FederatedType(tf_dataset_type, tff.CLIENTS)"
   ]
  },
  {
   "cell_type": "code",
   "execution_count": 17,
   "id": "e67efb39",
   "metadata": {},
   "outputs": [],
   "source": [
    "@tff.federated_computation(federated_server_type, federated_dataset_type)\n",
    "def next_fn(server_weights, federated_dataset):\n",
    "  # Broadcast the server weights to the clients.\n",
    "  server_weights_at_client = tff.federated_broadcast(server_weights)\n",
    "\n",
    "  # Each client computes their updated weights.\n",
    "  client_weights = tff.federated_map(\n",
    "      client_update_fn, (federated_dataset, server_weights_at_client))\n",
    "  \n",
    "  # The server averages these updates.\n",
    "  mean_client_weights = tff.federated_mean(client_weights)\n",
    "\n",
    "  # The server updates its model.\n",
    "  server_weights = tff.federated_map(server_update_fn, mean_client_weights)\n",
    "\n",
    "  return server_weights"
   ]
  },
  {
   "cell_type": "code",
   "execution_count": 18,
   "id": "27e6d866",
   "metadata": {},
   "outputs": [],
   "source": [
    "federated_algorithm = tff.templates.IterativeProcess(\n",
    "    initialize_fn=initialize_fn,\n",
    "    next_fn=next_fn\n",
    ")"
   ]
  },
  {
   "cell_type": "code",
   "execution_count": 19,
   "id": "289c180f",
   "metadata": {},
   "outputs": [
    {
     "data": {
      "text/plain": [
       "FunctionType(None, FederatedType(StructType([TensorType(tf.float32, [784, 10]), TensorType(tf.float32, [10])]) as list, PlacementLiteral('server'), True))"
      ]
     },
     "execution_count": 19,
     "metadata": {},
     "output_type": "execute_result"
    }
   ],
   "source": [
    "federated_algorithm.initialize.type_signature"
   ]
  },
  {
   "cell_type": "code",
   "execution_count": 20,
   "id": "ec9ce532",
   "metadata": {},
   "outputs": [
    {
     "data": {
      "text/plain": [
       "'( -> <float32[784,10],float32[10]>@SERVER)'"
      ]
     },
     "execution_count": 20,
     "metadata": {},
     "output_type": "execute_result"
    }
   ],
   "source": [
    "str(federated_algorithm.initialize.type_signature)"
   ]
  },
  {
   "cell_type": "code",
   "execution_count": 21,
   "id": "464f9b95",
   "metadata": {},
   "outputs": [
    {
     "data": {
      "text/plain": [
       "FunctionType(StructType([('server_weights', FederatedType(StructType([TensorType(tf.float32, [784, 10]), TensorType(tf.float32, [10])]) as list, PlacementLiteral('server'), True)), ('federated_dataset', FederatedType(SequenceType(StructType([TensorType(tf.float32, [None, 784]), TensorType(tf.int32, [None, 1])]) as tuple), PlacementLiteral('clients'), False))]) as OrderedDict, FederatedType(StructType([TensorType(tf.float32, [784, 10]), TensorType(tf.float32, [10])]) as list, PlacementLiteral('server'), True))"
      ]
     },
     "execution_count": 21,
     "metadata": {},
     "output_type": "execute_result"
    }
   ],
   "source": [
    "federated_algorithm.next.type_signature"
   ]
  },
  {
   "cell_type": "code",
   "execution_count": 22,
   "id": "283a4bc2",
   "metadata": {},
   "outputs": [
    {
     "data": {
      "text/plain": [
       "'(<server_weights=<float32[784,10],float32[10]>@SERVER,federated_dataset={<float32[?,784],int32[?,1]>*}@CLIENTS> -> <float32[784,10],float32[10]>@SERVER)'"
      ]
     },
     "execution_count": 22,
     "metadata": {},
     "output_type": "execute_result"
    }
   ],
   "source": [
    "str(federated_algorithm.next.type_signature)"
   ]
  },
  {
   "cell_type": "code",
   "execution_count": 23,
   "id": "2ee9cebe",
   "metadata": {},
   "outputs": [],
   "source": [
    "central_emnist_test = test.create_tf_dataset_from_all_clients()\n",
    "central_emnist_test = preprocess(central_emnist_test)"
   ]
  },
  {
   "cell_type": "code",
   "execution_count": 24,
   "id": "d0eb5c0e",
   "metadata": {},
   "outputs": [],
   "source": [
    "def evaluate(server_state):\n",
    "  keras_model = create_keras_model()\n",
    "  keras_model.compile(\n",
    "      loss=tf.keras.losses.SparseCategoricalCrossentropy(),\n",
    "      metrics=[tf.keras.metrics.SparseCategoricalAccuracy()]  \n",
    "  )\n",
    "  keras_model.set_weights(server_state)\n",
    "  keras_model.evaluate(central_emnist_test)"
   ]
  },
  {
   "cell_type": "code",
   "execution_count": 61,
   "id": "8ed3ec12",
   "metadata": {},
   "outputs": [
    {
     "name": "stdout",
     "output_type": "stream",
     "text": [
      "2042/2042 [==============================] - 7s 3ms/step - loss: 3.4800 - sparse_categorical_accuracy: 0.0954\n"
     ]
    }
   ],
   "source": [
    "server_state = federated_algorithm.initialize()\n",
    "evaluate(server_state)"
   ]
  },
  {
   "cell_type": "code",
   "execution_count": 60,
   "id": "6b7b29e5",
   "metadata": {},
   "outputs": [],
   "source": [
    "for round in range(1):\n",
    "  server_state = federated_algorithm.next(server_state, federated_train_data)"
   ]
  },
  {
   "cell_type": "code",
   "execution_count": 27,
   "id": "c4c99a62",
   "metadata": {},
   "outputs": [
    {
     "name": "stdout",
     "output_type": "stream",
     "text": [
      "2042/2042 [==============================] - 7s 3ms/step - loss: 2.9170 - sparse_categorical_accuracy: 0.0980\n"
     ]
    }
   ],
   "source": [
    "evaluate(server_state)"
   ]
  },
  {
   "cell_type": "code",
   "execution_count": null,
   "id": "dd5eaa58",
   "metadata": {},
   "outputs": [],
   "source": []
  }
 ],
 "metadata": {
  "kernelspec": {
   "display_name": "tff3.9",
   "language": "python",
   "name": "python3"
  },
  "language_info": {
   "codemirror_mode": {
    "name": "ipython",
    "version": 3
   },
   "file_extension": ".py",
   "mimetype": "text/x-python",
   "name": "python",
   "nbconvert_exporter": "python",
   "pygments_lexer": "ipython3",
   "version": "3.9.16"
  },
  "vscode": {
   "interpreter": {
    "hash": "83ebcb8ebcd135cb2fb1dffafeaf0424329f02f142b3e561e4797680878a2997"
   }
  }
 },
 "nbformat": 4,
 "nbformat_minor": 5
}
