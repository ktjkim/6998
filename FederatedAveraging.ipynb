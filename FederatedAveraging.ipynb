{
 "cells": [
  {
   "cell_type": "code",
   "execution_count": 2,
   "id": "02333dd3",
   "metadata": {},
   "outputs": [
    {
     "data": {
      "text/plain": [
       "b'Hello, World!'"
      ]
     },
     "execution_count": 2,
     "metadata": {},
     "output_type": "execute_result"
    }
   ],
   "source": [
    "import nest_asyncio\n",
    "\n",
    "nest_asyncio.apply()\n",
    "\n",
    "import collections\n",
    "import json\n",
    "from collections import OrderedDict\n",
    "import numpy as np\n",
    "import tensorflow as tf\n",
    "import tensorflow_federated as tff\n",
    "from tensorflow import TensorSpec\n",
    "from tensorflow.data import Dataset\n",
    "from tensorflow_federated.python.simulation.datasets import ClientData\n",
    "\n",
    "np.random.seed(0)\n",
    "\n",
    "tff.federated_computation(lambda: 'Hello, World!')()"
   ]
  },
  {
   "cell_type": "markdown",
   "id": "d610975d",
   "metadata": {},
   "source": [
    "**We start by downloading the MNIST dataset provided by TensorFlow Federated. This data includes the client_ids (i.e. the ID of the client that generated the handwritten digit), allowing for a simulation of the \"only positive labels\" setting.**"
   ]
  },
  {
   "cell_type": "code",
   "execution_count": 3,
   "id": "a28b5d48",
   "metadata": {},
   "outputs": [],
   "source": [
    "train, test = tff.simulation.datasets.emnist.load_data()"
   ]
  },
  {
   "cell_type": "code",
   "execution_count": 4,
   "id": "f1c98072",
   "metadata": {},
   "outputs": [
    {
     "data": {
      "text/plain": [
       "3383"
      ]
     },
     "execution_count": 4,
     "metadata": {},
     "output_type": "execute_result"
    }
   ],
   "source": [
    "# total number of clients \n",
    "len(train.client_ids)"
   ]
  },
  {
   "cell_type": "code",
   "execution_count": 5,
   "id": "d32f4d61",
   "metadata": {
    "scrolled": true
   },
   "outputs": [
    {
     "data": {
      "text/plain": [
       "OrderedDict([('label', TensorSpec(shape=(), dtype=tf.int32, name=None)),\n",
       "             ('pixels',\n",
       "              TensorSpec(shape=(28, 28), dtype=tf.float32, name=None))])"
      ]
     },
     "execution_count": 5,
     "metadata": {},
     "output_type": "execute_result"
    }
   ],
   "source": [
    "train.element_type_structure"
   ]
  },
  {
   "cell_type": "markdown",
   "id": "a0d15cdd",
   "metadata": {},
   "source": [
    "**We then convert the MNIST dataset to a federated dataset in which each client only has samples from a single class. This is in order to simulate the \"only positive labels\" setting in which each client only has access to positives from one class. We choose the most frequent label per client dataset (taken from *most_frequent_labels.json*) to be the positive label for the client. We keep in mind that the overall problem setting is still that of multi-class classification.**"
   ]
  },
  {
   "cell_type": "code",
   "execution_count": 6,
   "id": "0d3c22cd",
   "metadata": {},
   "outputs": [],
   "source": [
    "f = open('most_frequent_labels.json')\n",
    "d = json.load(f)\n",
    "d2 = {}\n",
    "for k, v in d.items(): \n",
    "    d2[train.client_ids[int(k)]] = v"
   ]
  },
  {
   "cell_type": "code",
   "execution_count": 7,
   "id": "eebde836",
   "metadata": {},
   "outputs": [],
   "source": [
    "BATCH_SIZE = 500\n",
    "\n",
    "def preprocess(dataset):\n",
    "    def helper(element):\n",
    "        x=tf.reshape(element['pixels'], [-1, 784])\n",
    "        y=tf.reshape(element['label'], [-1, 1])\n",
    "        return collections.OrderedDict(x=x,y=y)\n",
    "\n",
    "    return dataset.batch(BATCH_SIZE).map(helper)"
   ]
  },
  {
   "cell_type": "code",
   "execution_count": 8,
   "id": "4c174e0a",
   "metadata": {},
   "outputs": [],
   "source": [
    "def aux(client_id):\n",
    "    dataset = train.create_tf_dataset_for_client(client_id)\n",
    "    out = preprocess(dataset)\n",
    "    out = next(iter(out))\n",
    "    xs = out['x']\n",
    "    ys = out['y']\n",
    "    \n",
    "    y_ind = tf.where(ys == d2[client_id]) \n",
    "    # d2[client_id] corresponds to the most frequent label in that client dataset\n",
    "    gathered_ys = tf.gather_nd(ys, y_ind)\n",
    "    \n",
    "    x_ind = y_ind[:, 0]\n",
    "    gathered_xs = tf.gather(xs, x_ind)\n",
    "    \n",
    "    return OrderedDict([('x', gathered_xs), ('y', gathered_ys)])"
   ]
  },
  {
   "cell_type": "code",
   "execution_count": 9,
   "id": "8133d03a",
   "metadata": {},
   "outputs": [],
   "source": [
    "def dt_fn(client_id): \n",
    "    store = aux(client_id)\n",
    "    return Dataset.from_tensor_slices({'x': store['x'], 'y': store['y']})"
   ]
  },
  {
   "cell_type": "code",
   "execution_count": 10,
   "id": "9d711aca",
   "metadata": {},
   "outputs": [],
   "source": [
    "cd = ClientData.from_clients_and_tf_fn(train.client_ids, dt_fn) "
   ]
  },
  {
   "cell_type": "code",
   "execution_count": 24,
   "id": "7bde5a91",
   "metadata": {
    "scrolled": true
   },
   "outputs": [
    {
     "data": {
      "text/plain": [
       "3383"
      ]
     },
     "execution_count": 24,
     "metadata": {},
     "output_type": "execute_result"
    }
   ],
   "source": [
    "NUM_CLIENTS = len(cd.client_ids)\n",
    "NUM_CLIENTS"
   ]
  },
  {
   "cell_type": "code",
   "execution_count": 14,
   "id": "fa4e5fd2",
   "metadata": {},
   "outputs": [],
   "source": [
    "def preprocess2(dataset):\n",
    "    def batch_format_fn(element):\n",
    "        \"\"\"Flatten a batch `pixels` and return the features as an `OrderedDict`.\"\"\"\n",
    "        return collections.OrderedDict(\n",
    "            x=tf.reshape(element['x'], [-1, 784]),\n",
    "            y=tf.reshape(element['y'], [-1, 1]))\n",
    "\n",
    "    return dataset.batch(BATCH_SIZE).map(batch_format_fn)"
   ]
  },
  {
   "cell_type": "markdown",
   "id": "a347efd1",
   "metadata": {},
   "source": [
    "**We now make additional arrangements to simulate a federated training environment. In a typical federated training scenario, we deal with a potentially very large population of user devices. Of these devices, only a fraction may be available for training (mobile phone connected to internet, charging, etc.) at a given point in time. To simulate this volatility, we sample a random subset of the clients to be involved in each round of training.**"
   ]
  },
  {
   "cell_type": "code",
   "execution_count": 15,
   "id": "41f4e83b",
   "metadata": {},
   "outputs": [],
   "source": [
    "def make_federated_data(client_data, client_ids):\n",
    "    return [preprocess2(client_data.create_tf_dataset_for_client(x))\n",
    "      for x in client_ids]"
   ]
  },
  {
   "cell_type": "code",
   "execution_count": 17,
   "id": "98c90298",
   "metadata": {},
   "outputs": [],
   "source": [
    "def create_keras_model():\n",
    "    return tf.keras.models.Sequential([\n",
    "      tf.keras.layers.InputLayer(input_shape=(784,)),\n",
    "      tf.keras.layers.Dense(10, kernel_initializer='zeros'),\n",
    "      tf.keras.layers.Softmax(),\n",
    "    ])"
   ]
  },
  {
   "cell_type": "code",
   "execution_count": 18,
   "id": "01aecff5",
   "metadata": {},
   "outputs": [],
   "source": [
    "def model_fn():\n",
    "  # We _must_ create a new model here, and _not_ capture it from an external\n",
    "  # scope. TFF will call this within different graph contexts.\n",
    "    keras_model = create_keras_model()\n",
    "    return tff.learning.from_keras_model(\n",
    "      keras_model,\n",
    "      input_spec=OrderedDict([('x', TensorSpec(shape=(None, 28*28), \n",
    "                                               dtype=tf.float32, name=None)),\n",
    "                             ('y', TensorSpec(shape=(None, 1), dtype=tf.int32, name=None))]),\n",
    "                              \n",
    "      loss=tf.keras.losses.SparseCategoricalCrossentropy(),\n",
    "      metrics=[tf.keras.metrics.SparseCategoricalAccuracy()])"
   ]
  },
  {
   "cell_type": "code",
   "execution_count": 19,
   "id": "b760bbb2",
   "metadata": {},
   "outputs": [],
   "source": [
    "training_process = tff.learning.algorithms.build_weighted_fed_avg(\n",
    "    model_fn,\n",
    "    client_optimizer_fn=lambda: tf.keras.optimizers.SGD(learning_rate=0.02),\n",
    "    server_optimizer_fn=lambda: tf.keras.optimizers.SGD(learning_rate=1.0))"
   ]
  },
  {
   "cell_type": "code",
   "execution_count": 20,
   "id": "afe18748",
   "metadata": {},
   "outputs": [
    {
     "name": "stdout",
     "output_type": "stream",
     "text": [
      "( -> <\n",
      "  global_model_weights=<\n",
      "    trainable=<\n",
      "      float32[784,10],\n",
      "      float32[10]\n",
      "    >,\n",
      "    non_trainable=<>\n",
      "  >,\n",
      "  distributor=<>,\n",
      "  client_work=<>,\n",
      "  aggregator=<\n",
      "    value_sum_process=<>,\n",
      "    weight_sum_process=<>\n",
      "  >,\n",
      "  finalizer=<\n",
      "    int64\n",
      "  >\n",
      ">@SERVER)\n"
     ]
    }
   ],
   "source": [
    "print(training_process.initialize.type_signature.formatted_representation())"
   ]
  },
  {
   "cell_type": "code",
   "execution_count": 21,
   "id": "55696799",
   "metadata": {},
   "outputs": [],
   "source": [
    "train_state = training_process.initialize()"
   ]
  },
  {
   "cell_type": "markdown",
   "id": "a90908fb",
   "metadata": {},
   "source": [
    "**The volatility simulation happens here: at each round of training, we choose a random integer N between 100 and 300 as the number of participants in the training round. We then construct the federated train data for that round by choosing N client_ids.**"
   ]
  },
  {
   "cell_type": "code",
   "execution_count": 31,
   "id": "dfcf9205",
   "metadata": {},
   "outputs": [
    {
     "data": {
      "text/plain": [
       "array([1435, 2830, 3113, 3130, 2753, 3108, 2826,   86, 3115,  872, 2059,\n",
       "       2818,  307, 1104, 2080, 1206, 1152, 2854,  275, 1198, 1578, 1395,\n",
       "       1208, 2492, 2536, 2334, 1304,  637,  770,   94, 3298, 1899, 3341,\n",
       "       1904, 2344, 1352, 3091,  607, 1434, 2498, 1272,  180, 2371, 3052,\n",
       "       3332,  749, 2187, 1020, 2646, 2937, 1645,  843, 2744, 1552, 3224,\n",
       "        925, 2197, 1134,   25, 1488,  956, 1913, 2934, 1141, 1469, 1619,\n",
       "       2721, 1896,  928, 3300, 1531, 2811, 2169, 1350,  469, 2335,  525,\n",
       "       1863, 1720, 1176,  591, 2089, 2322,  207, 2827,  166, 2159, 1153,\n",
       "       2783, 1910, 2860,  216,   24,   67, 3026, 1007, 2282, 1740, 2022,\n",
       "        291, 1750, 1022, 2749, 2775, 2603, 2080, 3083, 1640, 2260, 1162,\n",
       "       1718, 1445,  623,  770, 1563, 1241, 2711,  821,  307, 1198, 1172,\n",
       "       2997, 1565, 2595,  807, 2121,  297, 2967,  730, 1970, 2924, 1795,\n",
       "       1823, 2825,  429,  199, 1447, 1085, 2389,  865, 3116, 2850, 1954,\n",
       "       1112, 2081, 2693, 2280])"
      ]
     },
     "execution_count": 31,
     "metadata": {},
     "output_type": "execute_result"
    }
   ],
   "source": [
    "chosen_client_ids"
   ]
  },
  {
   "cell_type": "code",
   "execution_count": 29,
   "id": "039e8d4a",
   "metadata": {},
   "outputs": [
    {
     "ename": "TypeError",
     "evalue": "only integer scalar arrays can be converted to a scalar index",
     "output_type": "error",
     "traceback": [
      "\u001b[0;31m---------------------------------------------------------------------------\u001b[0m",
      "\u001b[0;31mTypeError\u001b[0m                                 Traceback (most recent call last)",
      "Cell \u001b[0;32mIn[29], line 1\u001b[0m\n\u001b[0;32m----> 1\u001b[0m \u001b[43mcd\u001b[49m\u001b[38;5;241;43m.\u001b[39;49m\u001b[43mclient_ids\u001b[49m\u001b[43m[\u001b[49m\u001b[43mchosen_client_ids\u001b[49m\u001b[43m]\u001b[49m\n",
      "\u001b[0;31mTypeError\u001b[0m: only integer scalar arrays can be converted to a scalar index"
     ]
    }
   ],
   "source": [
    "cd.client_ids[chosen_client_ids]"
   ]
  },
  {
   "cell_type": "code",
   "execution_count": null,
   "id": "7e5e6158",
   "metadata": {},
   "outputs": [],
   "source": [
    "N = np.random.randint(100, 300)\n",
    "chosen_client_ids = np.random.randint(0, NUM_CLIENTS, N)\n",
    "federated_train_data = make_federated_data(cd, cd.client_ids)"
   ]
  },
  {
   "cell_type": "code",
   "execution_count": 142,
   "id": "c7c7cc89",
   "metadata": {},
   "outputs": [],
   "source": [
    "result = training_process.next(train_state, federated_train_data)"
   ]
  },
  {
   "cell_type": "code",
   "execution_count": 145,
   "id": "d53471cd",
   "metadata": {},
   "outputs": [
    {
     "name": "stdout",
     "output_type": "stream",
     "text": [
      "round  1, metrics=OrderedDict([('distributor', ()), ('client_work', OrderedDict([('train', OrderedDict([('sparse_categorical_accuracy', 0.19669421), ('loss', 2.3025854), ('num_examples', 1210), ('num_batches', 100)]))])), ('aggregator', OrderedDict([('mean_value', ()), ('mean_weight', ())])), ('finalizer', ())])\n"
     ]
    }
   ],
   "source": [
    "train_state = result.state\n",
    "train_metrics = result.metrics\n",
    "print('round  1, metrics={}'.format(train_metrics))"
   ]
  },
  {
   "cell_type": "code",
   "execution_count": 146,
   "id": "3a487546",
   "metadata": {},
   "outputs": [
    {
     "name": "stdout",
     "output_type": "stream",
     "text": [
      "round  2, metrics=OrderedDict([('distributor', ()), ('client_work', OrderedDict([('train', OrderedDict([('sparse_categorical_accuracy', 0.42727274), ('loss', 2.7164285), ('num_examples', 1210), ('num_batches', 100)]))])), ('aggregator', OrderedDict([('mean_value', ()), ('mean_weight', ())])), ('finalizer', ())])\n",
      "round  3, metrics=OrderedDict([('distributor', ()), ('client_work', OrderedDict([('train', OrderedDict([('sparse_categorical_accuracy', 0.19669421), ('loss', 4.237716), ('num_examples', 1210), ('num_batches', 100)]))])), ('aggregator', OrderedDict([('mean_value', ()), ('mean_weight', ())])), ('finalizer', ())])\n",
      "round  4, metrics=OrderedDict([('distributor', ()), ('client_work', OrderedDict([('train', OrderedDict([('sparse_categorical_accuracy', 0.42727274), ('loss', 3.0594237), ('num_examples', 1210), ('num_batches', 100)]))])), ('aggregator', OrderedDict([('mean_value', ()), ('mean_weight', ())])), ('finalizer', ())])\n",
      "round  5, metrics=OrderedDict([('distributor', ()), ('client_work', OrderedDict([('train', OrderedDict([('sparse_categorical_accuracy', 0.10082645), ('loss', 3.0260496), ('num_examples', 1210), ('num_batches', 100)]))])), ('aggregator', OrderedDict([('mean_value', ()), ('mean_weight', ())])), ('finalizer', ())])\n",
      "round  6, metrics=OrderedDict([('distributor', ()), ('client_work', OrderedDict([('train', OrderedDict([('sparse_categorical_accuracy', 0.42727274), ('loss', 3.3311677), ('num_examples', 1210), ('num_batches', 100)]))])), ('aggregator', OrderedDict([('mean_value', ()), ('mean_weight', ())])), ('finalizer', ())])\n",
      "round  7, metrics=OrderedDict([('distributor', ()), ('client_work', OrderedDict([('train', OrderedDict([('sparse_categorical_accuracy', 0.19669421), ('loss', 3.7708206), ('num_examples', 1210), ('num_batches', 100)]))])), ('aggregator', OrderedDict([('mean_value', ()), ('mean_weight', ())])), ('finalizer', ())])\n",
      "round  8, metrics=OrderedDict([('distributor', ()), ('client_work', OrderedDict([('train', OrderedDict([('sparse_categorical_accuracy', 0.42727274), ('loss', 2.973057), ('num_examples', 1210), ('num_batches', 100)]))])), ('aggregator', OrderedDict([('mean_value', ()), ('mean_weight', ())])), ('finalizer', ())])\n",
      "round  9, metrics=OrderedDict([('distributor', ()), ('client_work', OrderedDict([('train', OrderedDict([('sparse_categorical_accuracy', 0.10082645), ('loss', 3.438115), ('num_examples', 1210), ('num_batches', 100)]))])), ('aggregator', OrderedDict([('mean_value', ()), ('mean_weight', ())])), ('finalizer', ())])\n",
      "round 10, metrics=OrderedDict([('distributor', ()), ('client_work', OrderedDict([('train', OrderedDict([('sparse_categorical_accuracy', 0.42727274), ('loss', 2.7730856), ('num_examples', 1210), ('num_batches', 100)]))])), ('aggregator', OrderedDict([('mean_value', ()), ('mean_weight', ())])), ('finalizer', ())])\n"
     ]
    }
   ],
   "source": [
    "NUM_ROUNDS = 11\n",
    "for round_num in range(2, NUM_ROUNDS):\n",
    "  result = training_process.next(train_state, federated_train_data)\n",
    "  train_state = result.state\n",
    "  train_metrics = result.metrics\n",
    "  print('round {:2d}, metrics={}'.format(round_num, train_metrics))"
   ]
  },
  {
   "cell_type": "code",
   "execution_count": null,
   "id": "57636ff2",
   "metadata": {},
   "outputs": [],
   "source": []
  }
 ],
 "metadata": {
  "kernelspec": {
   "display_name": "Python 3 (ipykernel)",
   "language": "python",
   "name": "python3"
  },
  "language_info": {
   "codemirror_mode": {
    "name": "ipython",
    "version": 3
   },
   "file_extension": ".py",
   "mimetype": "text/x-python",
   "name": "python",
   "nbconvert_exporter": "python",
   "pygments_lexer": "ipython3",
   "version": "3.9.15"
  }
 },
 "nbformat": 4,
 "nbformat_minor": 5
}
